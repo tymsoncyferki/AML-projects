{
 "cells": [
  {
   "metadata": {
    "ExecuteTime": {
     "end_time": "2025-05-19T20:01:28.918750Z",
     "start_time": "2025-05-19T20:01:27.262354Z"
    }
   },
   "cell_type": "code",
   "source": [
    "from utils import *\n",
    "import pandas as pd\n",
    "import numpy as np\n",
    "from sklearn.model_selection import cross_val_predict\n",
    "from sklearn.model_selection import StratifiedKFold, GridSearchCV\n",
    "from sklearn.preprocessing import StandardScaler\n",
    "from sklearn.pipeline import Pipeline\n",
    "from sklearn.linear_model import LogisticRegression\n",
    "from sklearn.ensemble import RandomForestClassifier, GradientBoostingClassifier, AdaBoostClassifier\n",
    "from sklearn.svm import SVC\n",
    "from sklearn.neighbors import KNeighborsClassifier\n",
    "from sklearn.naive_bayes import GaussianNB\n",
    "from xgboost import XGBClassifier\n",
    "import warnings\n",
    "warnings.filterwarnings('ignore')"
   ],
   "id": "33c4ec614682385",
   "outputs": [],
   "execution_count": 1
  },
  {
   "metadata": {
    "ExecuteTime": {
     "end_time": "2025-05-19T20:24:52.668299Z",
     "start_time": "2025-05-19T20:24:52.663779Z"
    }
   },
   "cell_type": "code",
   "source": [
    "def custom_scorer(estimator, X, y):\n",
    "    y_prob = estimator.predict_proba(X)[:, 1]\n",
    "    return custom_score(y.to_numpy(), y_prob, num_features=X.shape[1], top_k_reference=1000)"
   ],
   "id": "6568371e5c7483a7",
   "outputs": [],
   "execution_count": 18
  },
  {
   "metadata": {
    "ExecuteTime": {
     "end_time": "2025-05-19T20:24:55.864498Z",
     "start_time": "2025-05-19T20:24:55.858988Z"
    }
   },
   "cell_type": "code",
   "source": [
    "def metrics_top_and_global(y_true, y_prob, num_features=2,top_k=1000):\n",
    "    \n",
    "    score= custom_score(y_true, y_prob, num_features=num_features, top_k_reference=top_k)\n",
    "\n",
    "    top_k_idx = np.argsort(y_prob)[-top_k:]\n",
    "    y_true_top = y_true[top_k_idx]\n",
    "    y_pred_top = (y_prob[top_k_idx] >= 0.5).astype(int)\n",
    "    acc_top = np.mean(y_true_top == y_pred_top)\n",
    "\n",
    "    y_pred_all = (y_prob >= 0.5).astype(int)\n",
    "    acc_global = np.mean(y_true == y_pred_all)\n",
    "\n",
    "    return {\n",
    "        \"score\": score,\n",
    "        \"acc_top\": acc_top,\n",
    "        \"acc_global\": acc_global\n",
    "    }\n"
   ],
   "id": "f42c77239b7f4988",
   "outputs": [],
   "execution_count": 19
  },
  {
   "metadata": {
    "ExecuteTime": {
     "end_time": "2025-05-19T20:25:00.392100Z",
     "start_time": "2025-05-19T20:25:00.387141Z"
    }
   },
   "cell_type": "code",
   "source": [
    "def evaluate_model_with_gridsearch(model, param_grid, X, y, n_splits=5, num_features=2,top_k=1000):\n",
    "    skf = StratifiedKFold(n_splits=n_splits, shuffle=True, random_state=42)\n",
    "    pipe = Pipeline([\n",
    "        (\"scaler\", StandardScaler()),\n",
    "        (\"clf\", model)\n",
    "    ])\n",
    "\n",
    "    grid = GridSearchCV(\n",
    "        estimator=pipe,\n",
    "        param_grid={\"clf__\" + k: v for k, v in param_grid.items()},\n",
    "        cv=skf,\n",
    "        scoring=custom_scorer,\n",
    "        n_jobs=-1\n",
    "    )\n",
    "\n",
    "    grid.fit(X, y)\n",
    "    best_model = grid.best_estimator_\n",
    "    y_prob_all = cross_val_predict(best_model, X, y, cv=skf, method=\"predict_proba\")[:, 1]\n",
    "    metrics = metrics_top_and_global(y.to_numpy(), y_prob_all, num_features, top_k)\n",
    "\n",
    "    return best_model, grid.best_score_, grid.best_params_, metrics\n"
   ],
   "id": "542b68e344159cb2",
   "outputs": [],
   "execution_count": 20
  },
  {
   "metadata": {
    "ExecuteTime": {
     "end_time": "2025-05-19T20:25:04.095261Z",
     "start_time": "2025-05-19T20:25:04.086724Z"
    }
   },
   "cell_type": "code",
   "source": [
    "models_params = {\n",
    "    \"Logistic Regression\": (\n",
    "        LogisticRegression(max_iter=2000),\n",
    "        {\n",
    "            \"C\": [0.001, 0.01, 0.1, 1, 10, 100],\n",
    "            \"penalty\": [\"l2\"],\n",
    "            \"solver\": [\"lbfgs\", \"liblinear\"]\n",
    "        }\n",
    "    ),\n",
    "    \"Random Forest\": (\n",
    "        RandomForestClassifier(),\n",
    "        {\n",
    "            \"n_estimators\": [100, 200, 500],\n",
    "            \"max_depth\": [None, 10, 20, 50],\n",
    "            \"min_samples_split\": [2, 5, 10],\n",
    "            \"min_samples_leaf\": [1, 2, 4],\n",
    "            \"max_features\": [\"sqrt\", \"log2\"]\n",
    "        }\n",
    "    ),\n",
    "    \"Gradient Boosting\": (\n",
    "        GradientBoostingClassifier(),\n",
    "        {\n",
    "            \"n_estimators\": [100, 200, 300],\n",
    "            \"learning_rate\": [0.01, 0.05, 0.1],\n",
    "            \"max_depth\": [3, 5, 7],\n",
    "            \"subsample\": [0.8, 1.0]\n",
    "        }\n",
    "    ),\n",
    "    \"XGBoost\": (\n",
    "        XGBClassifier(use_label_encoder=False, eval_metric='logloss'),\n",
    "        {\n",
    "            \"n_estimators\": [100, 200, 300],\n",
    "            \"learning_rate\": [0.01, 0.05, 0.1],\n",
    "            \"max_depth\": [3, 5, 7],\n",
    "            \"subsample\": [0.8, 1.0],\n",
    "            \"colsample_bytree\": [0.8, 1.0]\n",
    "        }\n",
    "    ),\n",
    "    \"SVC\": (\n",
    "        SVC(probability=True),\n",
    "        {\n",
    "            \"C\": [0.1, 1, 10, 100],\n",
    "            \"kernel\": [\"linear\", \"rbf\"],\n",
    "            \"gamma\": [\"scale\", \"auto\"]\n",
    "        }\n",
    "    ),\n",
    "    \"KNN\": (\n",
    "        KNeighborsClassifier(),\n",
    "        {\n",
    "            \"n_neighbors\": [3, 5, 7, 9],\n",
    "            \"weights\": [\"uniform\", \"distance\"],\n",
    "            \"metric\": [\"euclidean\", \"manhattan\"]\n",
    "        }\n",
    "    ),\n",
    "    \"Naive Bayes\": (\n",
    "        GaussianNB(),\n",
    "        {}\n",
    "    ),\n",
    "    \"AdaBoost\": (\n",
    "        AdaBoostClassifier(),\n",
    "        {\n",
    "            \"n_estimators\": [50, 100, 200],\n",
    "            \"learning_rate\": [0.01, 0.1, 1.0]\n",
    "        }\n",
    "    )\n",
    "}\n"
   ],
   "id": "99f4349d199c08e5",
   "outputs": [],
   "execution_count": 21
  },
  {
   "metadata": {},
   "cell_type": "markdown",
   "source": "### 2 features",
   "id": "5094095833e22595"
  },
  {
   "metadata": {},
   "cell_type": "code",
   "outputs": [],
   "execution_count": null,
   "source": [
    "X = pd.read_csv('../data_after_processing/col0_col2.csv')\n",
    "y = X['col500']\n",
    "X = X.drop(columns=['col500'])"
   ],
   "id": "24099911b64b7cb3"
  },
  {
   "metadata": {
    "ExecuteTime": {
     "end_time": "2025-05-19T20:21:09.015276Z",
     "start_time": "2025-05-19T20:06:02.317436Z"
    }
   },
   "cell_type": "code",
   "source": [
    "results = []\n",
    "\n",
    "for name, (model, param_grid) in models_params.items():\n",
    "    print(f\"Testing: {name}\")\n",
    "    best_model, best_score, best_params, metrics = evaluate_model_with_gridsearch(\n",
    "        model, param_grid, X, y, n_splits=5, num_features=2, top_k=1000\n",
    "    )\n",
    "    results.append((name, best_score, best_params, metrics))\n",
    "    print(f\"{name}: {best_score:.4f}\")\n",
    "    print(f\"   Parameters: {best_params}\\n\")\n",
    "    print(f\"   Metrics: {metrics}\\n\")\n"
   ],
   "id": "6b68e928cebf3ff6",
   "outputs": [
    {
     "name": "stdout",
     "output_type": "stream",
     "text": [
      "Testing: Logistic Regression\n",
      "Logistic Regression: 6920.0000\n",
      "   Parameters: {'clf__C': 0.001, 'clf__penalty': 'l2', 'clf__solver': 'lbfgs'}\n",
      "\n",
      "   Metrics: {'score': np.float64(6920.0), 'acc_top': np.float64(0.732), 'acc_global': np.float64(0.6786)}\n",
      "\n",
      "Testing: Random Forest\n",
      "Random Forest: 6890.0000\n",
      "   Parameters: {'clf__max_depth': 10, 'clf__max_features': 'sqrt', 'clf__min_samples_leaf': 4, 'clf__min_samples_split': 5, 'clf__n_estimators': 500}\n",
      "\n",
      "   Metrics: {'score': np.float64(6870.0), 'acc_top': np.float64(0.727), 'acc_global': np.float64(0.7012)}\n",
      "\n",
      "Testing: Gradient Boosting\n",
      "Gradient Boosting: 6990.0000\n",
      "   Parameters: {'clf__learning_rate': 0.05, 'clf__max_depth': 3, 'clf__n_estimators': 200, 'clf__subsample': 0.8}\n",
      "\n",
      "   Metrics: {'score': np.float64(6800.0), 'acc_top': np.float64(0.72), 'acc_global': np.float64(0.7042)}\n",
      "\n",
      "Testing: XGBoost\n",
      "XGBoost: 6940.0000\n",
      "   Parameters: {'clf__colsample_bytree': 0.8, 'clf__learning_rate': 0.1, 'clf__max_depth': 5, 'clf__n_estimators': 100, 'clf__subsample': 0.8}\n",
      "\n",
      "   Metrics: {'score': np.float64(6810.0), 'acc_top': np.float64(0.721), 'acc_global': np.float64(0.692)}\n",
      "\n",
      "Testing: SVC\n",
      "SVC: 7000.0000\n",
      "   Parameters: {'clf__C': 100, 'clf__gamma': 'scale', 'clf__kernel': 'rbf'}\n",
      "\n",
      "   Metrics: {'score': np.float64(6950.0), 'acc_top': np.float64(0.735), 'acc_global': np.float64(0.7076)}\n",
      "\n",
      "Testing: KNN\n",
      "KNN: 6750.0000\n",
      "   Parameters: {'clf__metric': 'manhattan', 'clf__n_neighbors': 7, 'clf__weights': 'uniform'}\n",
      "\n",
      "   Metrics: {'score': np.float64(6660.0), 'acc_top': np.float64(0.706), 'acc_global': np.float64(0.671)}\n",
      "\n",
      "Testing: Naive Bayes\n",
      "Naive Bayes: 6860.0000\n",
      "   Parameters: {}\n",
      "\n",
      "   Metrics: {'score': np.float64(6840.0), 'acc_top': np.float64(0.724), 'acc_global': np.float64(0.6744)}\n",
      "\n",
      "Testing: AdaBoost\n",
      "AdaBoost: 7030.0000\n",
      "   Parameters: {'clf__learning_rate': 1.0, 'clf__n_estimators': 200}\n",
      "\n",
      "   Metrics: {'score': np.float64(6890.0), 'acc_top': np.float64(0.729), 'acc_global': np.float64(0.7042)}\n",
      "\n"
     ]
    }
   ],
   "execution_count": 16
  },
  {
   "metadata": {},
   "cell_type": "markdown",
   "source": "### 5 features",
   "id": "56db30cc84b5fe45"
  },
  {
   "metadata": {},
   "cell_type": "code",
   "outputs": [],
   "execution_count": null,
   "source": [
    "X = pd.read_csv('../data_after_processing/step_by_step_5_features.csv')\n",
    "y = X['col500']\n",
    "X = X.drop(columns=['col500'])"
   ],
   "id": "bb765470f4371f0"
  },
  {
   "metadata": {
    "ExecuteTime": {
     "end_time": "2025-05-19T20:46:43.190792Z",
     "start_time": "2025-05-19T20:25:15.139407Z"
    }
   },
   "cell_type": "code",
   "source": [
    "results = []\n",
    "\n",
    "for name, (model, param_grid) in models_params.items():\n",
    "    print(f\"Testing: {name}\")\n",
    "    best_model, best_score, best_params, metrics = evaluate_model_with_gridsearch(\n",
    "        model, param_grid, X, y, n_splits=5, num_features=5, top_k=1000\n",
    "    )\n",
    "    results.append((name, best_score, best_params, metrics))\n",
    "    print(f\"{name}: {best_score:.4f}\")\n",
    "    print(f\"   Parameters: {best_params}\\n\")\n",
    "    print(f\"   Metrics: {metrics}\\n\")\n"
   ],
   "id": "214fdbf21a93f0c2",
   "outputs": [
    {
     "name": "stdout",
     "output_type": "stream",
     "text": [
      "Testing: Logistic Regression\n",
      "Logistic Regression: 6280.0000\n",
      "   Parameters: {'clf__C': 1, 'clf__penalty': 'l2', 'clf__solver': 'lbfgs'}\n",
      "\n",
      "   Metrics: {'score': np.float64(6260.0), 'acc_top': np.float64(0.726), 'acc_global': np.float64(0.7114)}\n",
      "\n",
      "Testing: Random Forest\n",
      "Random Forest: 6510.0000\n",
      "   Parameters: {'clf__max_depth': None, 'clf__max_features': 'log2', 'clf__min_samples_leaf': 1, 'clf__min_samples_split': 10, 'clf__n_estimators': 100}\n",
      "\n",
      "   Metrics: {'score': np.float64(6390.0), 'acc_top': np.float64(0.739), 'acc_global': np.float64(0.7094)}\n",
      "\n",
      "Testing: Gradient Boosting\n",
      "Gradient Boosting: 6410.0000\n",
      "   Parameters: {'clf__learning_rate': 0.01, 'clf__max_depth': 5, 'clf__n_estimators': 300, 'clf__subsample': 1.0}\n",
      "\n",
      "   Metrics: {'score': np.float64(6390.0), 'acc_top': np.float64(0.739), 'acc_global': np.float64(0.7118)}\n",
      "\n",
      "Testing: XGBoost\n",
      "XGBoost: 6450.0000\n",
      "   Parameters: {'clf__colsample_bytree': 1.0, 'clf__learning_rate': 0.01, 'clf__max_depth': 5, 'clf__n_estimators': 200, 'clf__subsample': 0.8}\n",
      "\n",
      "   Metrics: {'score': np.float64(6380.0), 'acc_top': np.float64(0.738), 'acc_global': np.float64(0.7182)}\n",
      "\n",
      "Testing: SVC\n",
      "SVC: 6310.0000\n",
      "   Parameters: {'clf__C': 0.1, 'clf__gamma': 'scale', 'clf__kernel': 'linear'}\n",
      "\n",
      "   Metrics: {'score': np.float64(6260.0), 'acc_top': np.float64(0.726), 'acc_global': np.float64(0.7134)}\n",
      "\n",
      "Testing: KNN\n",
      "KNN: 6200.0000\n",
      "   Parameters: {'clf__metric': 'manhattan', 'clf__n_neighbors': 9, 'clf__weights': 'distance'}\n",
      "\n",
      "   Metrics: {'score': np.float64(6170.0), 'acc_top': np.float64(0.717), 'acc_global': np.float64(0.6934)}\n",
      "\n",
      "Testing: Naive Bayes\n",
      "Naive Bayes: 6290.0000\n",
      "   Parameters: {}\n",
      "\n",
      "   Metrics: {'score': np.float64(6260.0), 'acc_top': np.float64(0.726), 'acc_global': np.float64(0.6832)}\n",
      "\n",
      "Testing: AdaBoost\n",
      "AdaBoost: 6400.0000\n",
      "   Parameters: {'clf__learning_rate': 0.01, 'clf__n_estimators': 100}\n",
      "\n",
      "   Metrics: {'score': np.float64(6370.0), 'acc_top': np.float64(0.737), 'acc_global': np.float64(0.706)}\n",
      "\n"
     ]
    }
   ],
   "execution_count": 22
  }
 ],
 "metadata": {
  "kernelspec": {
   "display_name": "Python 3",
   "language": "python",
   "name": "python3"
  },
  "language_info": {
   "codemirror_mode": {
    "name": "ipython",
    "version": 2
   },
   "file_extension": ".py",
   "mimetype": "text/x-python",
   "name": "python",
   "nbconvert_exporter": "python",
   "pygments_lexer": "ipython2",
   "version": "2.7.6"
  }
 },
 "nbformat": 4,
 "nbformat_minor": 5
}
