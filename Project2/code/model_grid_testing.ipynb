{
 "cells": [
  {
   "cell_type": "code",
   "execution_count": 1,
   "id": "33c4ec614682385",
   "metadata": {
    "ExecuteTime": {
     "end_time": "2025-05-19T20:01:28.918750Z",
     "start_time": "2025-05-19T20:01:27.262354Z"
    }
   },
   "outputs": [],
   "source": [
    "from utils import *\n",
    "import pandas as pd\n",
    "import numpy as np\n",
    "from sklearn.model_selection import cross_val_predict\n",
    "from sklearn.model_selection import StratifiedKFold, GridSearchCV\n",
    "from sklearn.preprocessing import StandardScaler\n",
    "from sklearn.pipeline import Pipeline\n",
    "from sklearn.linear_model import LogisticRegression\n",
    "from sklearn.ensemble import RandomForestClassifier, GradientBoostingClassifier, AdaBoostClassifier\n",
    "from sklearn.svm import SVC\n",
    "from sklearn.neighbors import KNeighborsClassifier\n",
    "from sklearn.naive_bayes import GaussianNB\n",
    "from xgboost import XGBClassifier\n",
    "import warnings\n",
    "warnings.filterwarnings('ignore')"
   ]
  },
  {
   "cell_type": "code",
   "execution_count": 18,
   "id": "6568371e5c7483a7",
   "metadata": {
    "ExecuteTime": {
     "end_time": "2025-05-19T20:24:52.668299Z",
     "start_time": "2025-05-19T20:24:52.663779Z"
    }
   },
   "outputs": [],
   "source": [
    "def custom_scorer(estimator, X, y):\n",
    "    y_prob = estimator.predict_proba(X)[:, 1]\n",
    "    return custom_score(y.to_numpy(), y_prob, num_features=X.shape[1], top_k_reference=1000)"
   ]
  },
  {
   "cell_type": "code",
   "execution_count": 19,
   "id": "f42c77239b7f4988",
   "metadata": {
    "ExecuteTime": {
     "end_time": "2025-05-19T20:24:55.864498Z",
     "start_time": "2025-05-19T20:24:55.858988Z"
    }
   },
   "outputs": [],
   "source": [
    "def metrics_top_and_global(y_true, y_prob, num_features=2,top_k=1000):\n",
    "    \n",
    "    score= custom_score(y_true, y_prob, num_features=num_features, top_k_reference=top_k)\n",
    "\n",
    "    top_k_idx = np.argsort(y_prob)[-top_k:]\n",
    "    y_true_top = y_true[top_k_idx]\n",
    "    y_pred_top = (y_prob[top_k_idx] >= 0.5).astype(int)\n",
    "    acc_top = np.mean(y_true_top == y_pred_top)\n",
    "\n",
    "    y_pred_all = (y_prob >= 0.5).astype(int)\n",
    "    acc_global = np.mean(y_true == y_pred_all)\n",
    "\n",
    "    return {\n",
    "        \"score\": score,\n",
    "        \"acc_top\": acc_top,\n",
    "        \"acc_global\": acc_global\n",
    "    }\n"
   ]
  },
  {
   "cell_type": "code",
   "execution_count": 20,
   "id": "542b68e344159cb2",
   "metadata": {
    "ExecuteTime": {
     "end_time": "2025-05-19T20:25:00.392100Z",
     "start_time": "2025-05-19T20:25:00.387141Z"
    }
   },
   "outputs": [],
   "source": [
    "def evaluate_model_with_gridsearch(model, param_grid, X, y, n_splits=5, num_features=2,top_k=1000):\n",
    "    skf = StratifiedKFold(n_splits=n_splits, shuffle=True, random_state=42)\n",
    "    pipe = Pipeline([\n",
    "        (\"scaler\", StandardScaler()),\n",
    "        (\"clf\", model)\n",
    "    ])\n",
    "\n",
    "    grid = GridSearchCV(\n",
    "        estimator=pipe,\n",
    "        param_grid={\"clf__\" + k: v for k, v in param_grid.items()},\n",
    "        cv=skf,\n",
    "        scoring=custom_scorer,\n",
    "        n_jobs=-1\n",
    "    )\n",
    "\n",
    "    grid.fit(X, y)\n",
    "    best_model = grid.best_estimator_\n",
    "    y_prob_all = cross_val_predict(best_model, X, y, cv=skf, method=\"predict_proba\")[:, 1]\n",
    "    metrics = metrics_top_and_global(y.to_numpy(), y_prob_all, num_features, top_k)\n",
    "\n",
    "    return best_model, grid.best_score_, grid.best_params_, metrics\n"
   ]
  }
 ],
 "metadata": {
  "kernelspec": {
   "display_name": "Python 3",
   "language": "python",
   "name": "python3"
  },
  "language_info": {
   "codemirror_mode": {
    "name": "ipython",
    "version": 2
   },
   "file_extension": ".py",
   "mimetype": "text/x-python",
   "name": "python",
   "nbconvert_exporter": "python",
   "pygments_lexer": "ipython2",
   "version": "2.7.6"
  }
 },
 "nbformat": 4,
 "nbformat_minor": 5
}
