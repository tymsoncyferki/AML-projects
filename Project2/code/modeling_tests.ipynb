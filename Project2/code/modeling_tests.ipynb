{
 "cells": [
  {
   "metadata": {
    "ExecuteTime": {
     "end_time": "2025-05-18T16:24:43.875178Z",
     "start_time": "2025-05-18T16:24:43.871153Z"
    }
   },
   "cell_type": "code",
   "source": [
    "from utils import *\n",
    "import warnings\n",
    "warnings.filterwarnings('ignore')\n",
    "from sklearn.model_selection import train_test_split\n",
    "from sklearn.base import BaseEstimator\n",
    "from sklearn.linear_model import LogisticRegression\n",
    "from sklearn.ensemble import RandomForestClassifier\n",
    "from xgboost import XGBClassifier\n",
    "from sklearn.model_selection import StratifiedKFold\n",
    "from sklearn.preprocessing import StandardScaler\n",
    "from sklearn.base import clone\n",
    "from sklearn.ensemble import GradientBoostingClassifier\n",
    "import numpy as np"
   ],
   "id": "33c4ec614682385",
   "outputs": [],
   "execution_count": 39
  },
  {
   "metadata": {
    "ExecuteTime": {
     "end_time": "2025-05-18T16:26:43.660497Z",
     "start_time": "2025-05-18T16:26:43.647185Z"
    }
   },
   "cell_type": "code",
   "source": [
    "X = pd.read_csv('../data_after_processing/step_by_step_6_features.csv')\n",
    "y = X['col500']\n",
    "X = X.drop(columns=['col500'])"
   ],
   "id": "3a5638aa9ddb6f38",
   "outputs": [],
   "execution_count": 41
  },
  {
   "metadata": {
    "ExecuteTime": {
     "end_time": "2025-05-18T16:26:44.492888Z",
     "start_time": "2025-05-18T16:26:44.482529Z"
    }
   },
   "cell_type": "code",
   "source": [
    "X_train, X_test, y_train, y_test = train_test_split(X, y, stratify=y, test_size=0.25, random_state=42)\n",
    "\n",
    "scaler = StandardScaler()\n",
    "X_train_scaled = scaler.fit_transform(X_train)\n",
    "X_test_scaled = scaler.transform(X_test)"
   ],
   "id": "initial_id",
   "outputs": [],
   "execution_count": 42
  },
  {
   "metadata": {
    "ExecuteTime": {
     "end_time": "2025-05-18T16:26:46.167118Z",
     "start_time": "2025-05-18T16:26:46.163658Z"
    }
   },
   "cell_type": "code",
   "source": [
    "def custom_score_sklearn(estimator: BaseEstimator, X_val, y_val):\n",
    "    y_prob = estimator.predict_proba(X_val)[:, 1]\n",
    "    num_features = X_val.shape[1]\n",
    "    return custom_score(y_val, y_prob, num_features)"
   ],
   "id": "10b05e6b7afb623c",
   "outputs": [],
   "execution_count": 43
  },
  {
   "metadata": {
    "ExecuteTime": {
     "end_time": "2025-05-18T16:26:47.547702Z",
     "start_time": "2025-05-18T16:26:47.541834Z"
    }
   },
   "cell_type": "code",
   "source": [
    "def evaluate_model_with_cv(model, X, y, n_splits=5):\n",
    "    skf = StratifiedKFold(n_splits=n_splits, shuffle=True, random_state=42)\n",
    "    scores = []\n",
    "\n",
    "    for train_idx, val_idx in skf.split(X, y):\n",
    "        X_train, X_val = X.iloc[train_idx], X.iloc[val_idx]\n",
    "        y_train, y_val = y.iloc[train_idx], y.iloc[val_idx]\n",
    "\n",
    "        scaler = StandardScaler()\n",
    "        X_train_scaled = scaler.fit_transform(X_train)\n",
    "        X_val_scaled = scaler.transform(X_val)\n",
    "\n",
    "        model_clone = clone(model)\n",
    "        model_clone.fit(X_train_scaled, y_train)\n",
    "        y_prob = model_clone.predict_proba(X_val_scaled)[:, 1]\n",
    "\n",
    "        score = custom_score(y_val.to_numpy(), y_prob, X.shape[1])\n",
    "        scores.append(score)\n",
    "\n",
    "    return np.mean(scores), np.std(scores)"
   ],
   "id": "1358b60247ac0ae3",
   "outputs": [],
   "execution_count": 44
  },
  {
   "metadata": {
    "ExecuteTime": {
     "end_time": "2025-05-18T16:24:59.416972Z",
     "start_time": "2025-05-18T16:24:47.820784Z"
    }
   },
   "cell_type": "code",
   "source": [
    "models = {\n",
    "    \"Logistic Regression\": LogisticRegression(max_iter=1000),\n",
    "    \"Random Forest\": RandomForestClassifier(n_estimators=100),\n",
    "    \"Gradient Boosting\": GradientBoostingClassifier(n_estimators=100),\n",
    "    \"XGBoost\": XGBClassifier(use_label_encoder=False, eval_metric='logloss')\n",
    "}\n",
    "\n",
    "for name, model in models.items():\n",
    "    mean_score, std_score = evaluate_model_with_cv(model, X, y, n_splits=5)\n",
    "    print(f\"{name}: mean custom score = {mean_score:.2f} ± {std_score:.2f}\")\n"
   ],
   "id": "4480189a7facfc0c",
   "outputs": [
    {
     "name": "stdout",
     "output_type": "stream",
     "text": [
      "Logistic Regression: mean custom score = 6280.00 ± 369.59\n",
      "Random Forest: mean custom score = 6400.00 ± 221.36\n",
      "Gradient Boosting: mean custom score = 6190.00 ± 185.47\n",
      "XGBoost: mean custom score = 6070.00 ± 156.84\n"
     ]
    }
   ],
   "execution_count": 40
  }
 ],
 "metadata": {
  "kernelspec": {
   "display_name": "Python 3",
   "language": "python",
   "name": "python3"
  },
  "language_info": {
   "codemirror_mode": {
    "name": "ipython",
    "version": 2
   },
   "file_extension": ".py",
   "mimetype": "text/x-python",
   "name": "python",
   "nbconvert_exporter": "python",
   "pygments_lexer": "ipython2",
   "version": "2.7.6"
  }
 },
 "nbformat": 4,
 "nbformat_minor": 5
}
