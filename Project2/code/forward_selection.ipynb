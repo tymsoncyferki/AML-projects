{
 "cells": [
  {
   "cell_type": "code",
   "execution_count": 5,
   "id": "74644fc1",
   "metadata": {},
   "outputs": [],
   "source": [
    "import numpy as np\n",
    "from tqdm import tqdm\n",
    "from sklearn.linear_model import LogisticRegression, SGDClassifier\n",
    "from sklearn.naive_bayes import GaussianNB, BernoulliNB\n",
    "from sklearn.ensemble import ExtraTreesClassifier, GradientBoostingClassifier, RandomForestClassifier\n",
    "from sklearn.tree import DecisionTreeClassifier\n",
    "from sklearn.model_selection import StratifiedKFold\n",
    "from sklearn.pipeline import Pipeline\n",
    "from sklearn.preprocessing import StandardScaler\n",
    "from sklearn.base import clone\n",
    "from sklearn.metrics import accuracy_score\n",
    "\n",
    "from utils import custom_score, load_data"
   ]
  },
  {
   "cell_type": "code",
   "execution_count": 2,
   "id": "670cd861",
   "metadata": {},
   "outputs": [],
   "source": [
    "def top_n_accuracy(y_true: np.ndarray, y_prob: np.ndarray, reference_size: int = 5000, top_k_reference: int = 1000):\n",
    "    \"\"\"\n",
    "    Calculates top n accuracy, takes into account the proportions of the data.\n",
    "\n",
    "    Args:\n",
    "        y_true (np.array): True binary labels (0 or 1) indicating actual energy usage status\n",
    "        y_prob (np.array): Predicted probabilities\n",
    "        reference_size (int): Size of the full dataset the top-k selection is based on (default=5000)\n",
    "        top_k_reference (int): Number of households to target in the full dataset (default=1000)\n",
    "\n",
    "    Returns:\n",
    "        float: top n accuracy score\n",
    "    \"\"\"\n",
    "    n = len(y_true)\n",
    "    top_k = int(top_k_reference * n / reference_size)\n",
    "    top_idx = np.argsort(y_prob)[-top_k:]\n",
    "    \n",
    "    score = accuracy_score(y_true[top_idx], np.round(y_prob[top_idx]))\n",
    "    return score\n",
    "\n",
    "def test_features(X, y, base_model, selected):\n",
    "    kf = StratifiedKFold(n_splits=5, shuffle=True, random_state=42)\n",
    "\n",
    "    fold_scores = []\n",
    "    accs_top = []\n",
    "    accs = []\n",
    "\n",
    "    for train_idx, val_idx in kf.split(X, y):\n",
    "        X_cv, X_val = X[train_idx][:, selected], X[val_idx][:, selected]\n",
    "        y_cv, y_val = y[train_idx], y[val_idx]\n",
    "\n",
    "        model = clone(base_model)\n",
    "        pipeline = Pipeline([\n",
    "            ('scale', StandardScaler()),\n",
    "            ('clf', model)\n",
    "        ])\n",
    "        pipeline.fit(X_cv, y_cv)\n",
    "        y_val_prob = pipeline.predict_proba(X_val)[:, 1]\n",
    "\n",
    "        score = custom_score(y_val, y_val_prob, num_features=len(selected))\n",
    "        fold_scores.append(score)\n",
    "\n",
    "        acc_top = top_n_accuracy(y_val, y_val_prob)\n",
    "        accs_top.append(acc_top)\n",
    "\n",
    "        acc = accuracy_score(y_val, np.round(y_val_prob))\n",
    "        accs.append(acc)\n",
    "\n",
    "    return {\"custom_score\": round(float(np.mean(fold_scores)), 3),\n",
    "            \"top_n_accuracy\": round(float(np.mean(accs_top)), 3),\n",
    "            \"accuracy\": round(float(np.mean(accs)), 3)}"
   ]
  },
  {
   "cell_type": "code",
   "execution_count": 3,
   "id": "88af42d4",
   "metadata": {},
   "outputs": [],
   "source": [
    "X_train = load_data('x_train.txt')\n",
    "y_train = load_data('y_train.txt')\n",
    "\n",
    "X = X_train.to_numpy()\n",
    "y = y_train[0].to_numpy()"
   ]
  },
  {
   "cell_type": "code",
   "execution_count": 7,
   "id": "0af2cc70",
   "metadata": {},
   "outputs": [],
   "source": [
    "def forward_feature_selection(X, y, base_model, max_features=20, cv_splits=5, verbose=True):\n",
    "    n_features_total = X.shape[1]\n",
    "    selected = []\n",
    "    remaining = list(range(n_features_total))\n",
    "    best_score = -np.inf\n",
    "\n",
    "    kf = StratifiedKFold(n_splits=cv_splits, shuffle=True, random_state=42)\n",
    "\n",
    "    i = 1\n",
    "    while len(selected) < max_features and remaining:\n",
    "        scores = []\n",
    "        for candidate in tqdm(remaining, total=len(remaining)):\n",
    "            current_features = selected + [candidate]\n",
    "            fold_scores = []\n",
    "\n",
    "            for train_idx, val_idx in kf.split(X, y):\n",
    "                X_cv, X_val = X[train_idx][:, current_features], X[val_idx][:, current_features]\n",
    "                y_cv, y_val = y[train_idx], y[val_idx]\n",
    "\n",
    "                model = clone(base_model)\n",
    "                pipeline = Pipeline([\n",
    "                    ('scale', StandardScaler()),\n",
    "                    ('clf', model)\n",
    "                ])\n",
    "                pipeline.fit(X_cv, y_cv)\n",
    "                y_val_prob = pipeline.predict_proba(X_val)[:, 1]\n",
    "\n",
    "                score = custom_score(y_val, y_val_prob, num_features=len(current_features))\n",
    "                fold_scores.append(score)\n",
    "\n",
    "            avg_score = np.mean(fold_scores)\n",
    "            scores.append((avg_score, candidate))\n",
    "\n",
    "        scores.sort(reverse=True)\n",
    "        top_score, top_feature = scores[0]\n",
    "\n",
    "        if top_score > best_score:\n",
    "            selected.append(top_feature)\n",
    "            remaining.remove(top_feature)\n",
    "            best_score = top_score\n",
    "            if verbose:\n",
    "                print(f\"Iteration {i}: added feature {top_feature}, score improved to {top_score:.2f}\")\n",
    "        else:\n",
    "            if verbose:\n",
    "                print(f\"Iteration {i}: no further improvement, stopping\")\n",
    "            break\n",
    "        i += 1\n",
    "\n",
    "    return selected, best_score"
   ]
  },
  {
   "cell_type": "markdown",
   "id": "8439e0d4",
   "metadata": {},
   "source": [
    "### Tests"
   ]
  },
  {
   "cell_type": "code",
   "execution_count": 79,
   "id": "4c5ed80f",
   "metadata": {},
   "outputs": [
    {
     "name": "stderr",
     "output_type": "stream",
     "text": [
      "100%|██████████| 500/500 [00:18<00:00, 26.40it/s]\n"
     ]
    },
    {
     "name": "stdout",
     "output_type": "stream",
     "text": [
      "Iteration 1: added feature 8, score improved to 7210.00\n"
     ]
    },
    {
     "name": "stderr",
     "output_type": "stream",
     "text": [
      "100%|██████████| 499/499 [00:23<00:00, 21.62it/s]"
     ]
    },
    {
     "name": "stdout",
     "output_type": "stream",
     "text": [
      "Iteration 2: no further improvement, stopping\n",
      "\n",
      "Final selected features: [8]\n",
      "Best CV score: 7210.00\n",
      "{'custom_score': 7210.0, 'top_n_accuracy': 0.741, 'accuracy': 0.652}\n"
     ]
    },
    {
     "name": "stderr",
     "output_type": "stream",
     "text": [
      "\n"
     ]
    }
   ],
   "source": [
    "base_model = LogisticRegression(random_state=10)\n",
    "\n",
    "selected_features, best_cv_score = forward_feature_selection(\n",
    "    X, y,\n",
    "    base_model=base_model,\n",
    ")\n",
    "\n",
    "print(f\"\\nFinal selected features: {selected_features}\")\n",
    "print(f\"Best CV score: {best_cv_score:.2f}\")\n",
    "\n",
    "print(test_features(X, y, base_model, selected_features))"
   ]
  },
  {
   "cell_type": "code",
   "execution_count": 80,
   "id": "9dbd8401",
   "metadata": {},
   "outputs": [
    {
     "name": "stderr",
     "output_type": "stream",
     "text": [
      "100%|██████████| 500/500 [00:16<00:00, 29.83it/s]\n"
     ]
    },
    {
     "name": "stdout",
     "output_type": "stream",
     "text": [
      "Iteration 1: added feature 8, score improved to 7210.00\n"
     ]
    },
    {
     "name": "stderr",
     "output_type": "stream",
     "text": [
      "100%|██████████| 499/499 [00:17<00:00, 28.92it/s]\n"
     ]
    },
    {
     "name": "stdout",
     "output_type": "stream",
     "text": [
      "Iteration 2: no further improvement, stopping\n",
      "\n",
      "Final selected features: [8]\n",
      "Best CV score: 7210.00\n",
      "{'custom_score': 7210.0, 'top_n_accuracy': 0.741, 'accuracy': 0.653}\n"
     ]
    }
   ],
   "source": [
    "base_model = GaussianNB()\n",
    "\n",
    "selected_features, best_cv_score = forward_feature_selection(\n",
    "    X, y,\n",
    "    base_model=base_model,\n",
    ")\n",
    "\n",
    "print(f\"\\nFinal selected features: {selected_features}\")\n",
    "print(f\"Best CV score: {best_cv_score:.2f}\")\n",
    "\n",
    "print(test_features(X, y, base_model, selected_features))"
   ]
  },
  {
   "cell_type": "code",
   "execution_count": 81,
   "id": "38ad7b07",
   "metadata": {},
   "outputs": [
    {
     "name": "stderr",
     "output_type": "stream",
     "text": [
      "100%|██████████| 500/500 [00:18<00:00, 26.70it/s]\n"
     ]
    },
    {
     "name": "stdout",
     "output_type": "stream",
     "text": [
      "Iteration 1: added feature 2, score improved to 7130.00\n"
     ]
    },
    {
     "name": "stderr",
     "output_type": "stream",
     "text": [
      "100%|██████████| 499/499 [00:18<00:00, 26.90it/s]\n"
     ]
    },
    {
     "name": "stdout",
     "output_type": "stream",
     "text": [
      "Iteration 2: no further improvement, stopping\n",
      "\n",
      "Final selected features: [2]\n",
      "Best CV score: 7130.00\n",
      "{'custom_score': 7130.0, 'top_n_accuracy': 0.733, 'accuracy': 0.707}\n"
     ]
    }
   ],
   "source": [
    "base_model = BernoulliNB()\n",
    "\n",
    "selected_features, best_cv_score = forward_feature_selection(\n",
    "    X, y,\n",
    "    base_model=base_model,\n",
    ")\n",
    "\n",
    "print(f\"\\nFinal selected features: {selected_features}\")\n",
    "print(f\"Best CV score: {best_cv_score:.2f}\")\n",
    "\n",
    "print(test_features(X, y, base_model, selected_features))"
   ]
  },
  {
   "cell_type": "code",
   "execution_count": 82,
   "id": "d4e3c7c5",
   "metadata": {},
   "outputs": [
    {
     "name": "stderr",
     "output_type": "stream",
     "text": [
      "100%|██████████| 500/500 [00:46<00:00, 10.69it/s]\n"
     ]
    },
    {
     "name": "stdout",
     "output_type": "stream",
     "text": [
      "Iteration 1: added feature 2, score improved to 5540.00\n"
     ]
    },
    {
     "name": "stderr",
     "output_type": "stream",
     "text": [
      "100%|██████████| 499/499 [00:51<00:00,  9.74it/s]\n"
     ]
    },
    {
     "name": "stdout",
     "output_type": "stream",
     "text": [
      "Iteration 2: added feature 86, score improved to 5810.00\n"
     ]
    },
    {
     "name": "stderr",
     "output_type": "stream",
     "text": [
      "100%|██████████| 498/498 [01:05<00:00,  7.66it/s]\n"
     ]
    },
    {
     "name": "stdout",
     "output_type": "stream",
     "text": [
      "Iteration 3: no further improvement, stopping\n",
      "\n",
      "Final selected features: [2, 86]\n",
      "Best CV score: 5810.00\n",
      "{'custom_score': 5810.0, 'top_n_accuracy': 0.621, 'accuracy': 0.603}\n"
     ]
    }
   ],
   "source": [
    "base_model = DecisionTreeClassifier(random_state=10)\n",
    "\n",
    "selected_features, best_cv_score = forward_feature_selection(\n",
    "    X, y,\n",
    "    base_model=base_model,\n",
    ")\n",
    "\n",
    "print(f\"\\nFinal selected features: {selected_features}\")\n",
    "print(f\"Best CV score: {best_cv_score:.2f}\")\n",
    "\n",
    "print(test_features(X, y, base_model, selected_features))"
   ]
  },
  {
   "cell_type": "code",
   "execution_count": 9,
   "id": "a4be87b1",
   "metadata": {},
   "outputs": [
    {
     "name": "stderr",
     "output_type": "stream",
     "text": [
      "100%|██████████| 500/500 [14:20<00:00,  1.72s/it]\n"
     ]
    },
    {
     "name": "stdout",
     "output_type": "stream",
     "text": [
      "Iteration 1: added feature 8, score improved to 7070.00\n"
     ]
    },
    {
     "name": "stderr",
     "output_type": "stream",
     "text": [
      "100%|██████████| 499/499 [14:20<00:00,  1.72s/it]\n"
     ]
    },
    {
     "name": "stdout",
     "output_type": "stream",
     "text": [
      "Iteration 2: added feature 139, score improved to 7090.00\n"
     ]
    },
    {
     "name": "stderr",
     "output_type": "stream",
     "text": [
      "100%|██████████| 498/498 [13:35<00:00,  1.64s/it]\n"
     ]
    },
    {
     "name": "stdout",
     "output_type": "stream",
     "text": [
      "Iteration 3: no further improvement, stopping\n",
      "\n",
      "Final selected features: [8, 139]\n",
      "Best CV score: 7090.00\n",
      "{'custom_score': 7090.0, 'top_n_accuracy': 0.749, 'accuracy': 0.652}\n"
     ]
    }
   ],
   "source": [
    "base_model = RandomForestClassifier(max_depth=5, random_state=10)\n",
    "\n",
    "selected_features, best_cv_score = forward_feature_selection(\n",
    "    X, y,\n",
    "    base_model=base_model,\n",
    ")\n",
    "\n",
    "print(f\"\\nFinal selected features: {selected_features}\")\n",
    "print(f\"Best CV score: {best_cv_score:.2f}\")\n",
    "\n",
    "print(test_features(X, y, base_model, selected_features))"
   ]
  },
  {
   "cell_type": "code",
   "execution_count": 30,
   "id": "ff2c9967",
   "metadata": {},
   "outputs": [
    {
     "name": "stderr",
     "output_type": "stream",
     "text": [
      "100%|██████████| 500/500 [12:23<00:00,  1.49s/it]\n"
     ]
    },
    {
     "name": "stdout",
     "output_type": "stream",
     "text": [
      "Iteration 1: added feature 3, score improved to 7160.00\n"
     ]
    },
    {
     "name": "stderr",
     "output_type": "stream",
     "text": [
      "100%|██████████| 499/499 [48:36<00:00,  5.84s/it]   \n"
     ]
    },
    {
     "name": "stdout",
     "output_type": "stream",
     "text": [
      "Iteration 2: no further improvement, stopping\n",
      "\n",
      "Final selected features: [3]\n",
      "Best CV score: 7160.00\n",
      "{'custom_score': 7160.0, 'top_n_accuracy': 0.736, 'accuracy': 0.662}\n"
     ]
    }
   ],
   "source": [
    "base_model = GradientBoostingClassifier(random_state=10)\n",
    "\n",
    "selected_features, best_cv_score = forward_feature_selection(\n",
    "    X, y,\n",
    "    base_model=base_model,\n",
    ")\n",
    "\n",
    "print(f\"\\nFinal selected features: {selected_features}\")\n",
    "print(f\"Best CV score: {best_cv_score:.2f}\")\n",
    "\n",
    "print(test_features(X, y, base_model, selected_features))"
   ]
  },
  {
   "cell_type": "markdown",
   "id": "7559f7a6",
   "metadata": {},
   "source": [
    "### Manual tests"
   ]
  },
  {
   "cell_type": "code",
   "execution_count": 20,
   "id": "6a5da32a",
   "metadata": {},
   "outputs": [
    {
     "data": {
      "text/plain": [
       "{'custom_score': 7090.0, 'top_n_accuracy': 0.749, 'accuracy': 0.652}"
      ]
     },
     "execution_count": 20,
     "metadata": {},
     "output_type": "execute_result"
    }
   ],
   "source": [
    "test_features(X, y, RandomForestClassifier(max_depth=5, random_state=10), [8, 139])"
   ]
  },
  {
   "cell_type": "code",
   "execution_count": 19,
   "id": "e52572f4",
   "metadata": {},
   "outputs": [
    {
     "data": {
      "text/plain": [
       "{'custom_score': 6940.0, 'top_n_accuracy': 0.734, 'accuracy': 0.711}"
      ]
     },
     "execution_count": 19,
     "metadata": {},
     "output_type": "execute_result"
    }
   ],
   "source": [
    "test_features(X, y, RandomForestClassifier(max_depth=5, random_state=10), [2, 8])"
   ]
  },
  {
   "cell_type": "code",
   "execution_count": 39,
   "id": "57016236",
   "metadata": {},
   "outputs": [
    {
     "data": {
      "text/plain": [
       "{'custom_score': 7070.0, 'top_n_accuracy': 0.727, 'accuracy': 0.652}"
      ]
     },
     "execution_count": 39,
     "metadata": {},
     "output_type": "execute_result"
    }
   ],
   "source": [
    "test_features(X, y, RandomForestClassifier(max_depth=5, random_state=10), [8])"
   ]
  },
  {
   "cell_type": "code",
   "execution_count": null,
   "id": "7980b38d",
   "metadata": {},
   "outputs": [
    {
     "data": {
      "text/plain": [
       "{'custom_score': 6870.0, 'top_n_accuracy': 0.727, 'accuracy': 0.706}"
      ]
     },
     "execution_count": 21,
     "metadata": {},
     "output_type": "execute_result"
    }
   ],
   "source": [
    "test_features(X, y, LogisticRegression(random_state=10), [2, 8])"
   ]
  },
  {
   "cell_type": "code",
   "execution_count": 23,
   "id": "fffc6072",
   "metadata": {},
   "outputs": [
    {
     "data": {
      "text/plain": [
       "{'custom_score': 6890.0, 'top_n_accuracy': 0.729, 'accuracy': 0.711}"
      ]
     },
     "execution_count": 23,
     "metadata": {},
     "output_type": "execute_result"
    }
   ],
   "source": [
    "test_features(X, y, LogisticRegression(random_state=10), [0, 2])"
   ]
  },
  {
   "cell_type": "code",
   "execution_count": 28,
   "id": "83015792",
   "metadata": {},
   "outputs": [
    {
     "data": {
      "text/plain": [
       "{'custom_score': 7210.0, 'top_n_accuracy': 0.741, 'accuracy': 0.652}"
      ]
     },
     "execution_count": 28,
     "metadata": {},
     "output_type": "execute_result"
    }
   ],
   "source": [
    "test_features(X, y, LogisticRegression(random_state=10), [8])"
   ]
  },
  {
   "cell_type": "code",
   "execution_count": 32,
   "id": "5d566e6d",
   "metadata": {},
   "outputs": [
    {
     "data": {
      "text/plain": [
       "{'custom_score': 7190.0, 'top_n_accuracy': 0.739, 'accuracy': 0.667}"
      ]
     },
     "execution_count": 32,
     "metadata": {},
     "output_type": "execute_result"
    }
   ],
   "source": [
    "test_features(X, y, LogisticRegression(random_state=10), [3])"
   ]
  },
  {
   "cell_type": "code",
   "execution_count": 57,
   "id": "4247ceba",
   "metadata": {},
   "outputs": [
    {
     "data": {
      "text/plain": [
       "{'custom_score': 7130.0, 'top_n_accuracy': 0.733, 'accuracy': 0.707}"
      ]
     },
     "execution_count": 57,
     "metadata": {},
     "output_type": "execute_result"
    }
   ],
   "source": [
    "test_features(X, y, BernoulliNB(), [2])"
   ]
  },
  {
   "cell_type": "code",
   "execution_count": 35,
   "id": "07d9381e",
   "metadata": {},
   "outputs": [
    {
     "data": {
      "text/plain": [
       "{'custom_score': 6960.0, 'top_n_accuracy': 0.736, 'accuracy': 0.661}"
      ]
     },
     "execution_count": 35,
     "metadata": {},
     "output_type": "execute_result"
    }
   ],
   "source": [
    "test_features(X, y, GradientBoostingClassifier(random_state=10), [3,8])"
   ]
  },
  {
   "cell_type": "markdown",
   "id": "56ee177f",
   "metadata": {},
   "source": [
    "### Plots"
   ]
  },
  {
   "cell_type": "code",
   "execution_count": 43,
   "id": "b6efd0a9",
   "metadata": {},
   "outputs": [],
   "source": [
    "import matplotlib.pyplot as plt"
   ]
  },
  {
   "cell_type": "code",
   "execution_count": 47,
   "id": "fb524464",
   "metadata": {},
   "outputs": [],
   "source": [
    "X_test = load_data('x_test.txt')\n",
    "X_test = X_test.to_numpy()"
   ]
  },
  {
   "cell_type": "code",
   "execution_count": 49,
   "id": "deaf9f7a",
   "metadata": {},
   "outputs": [],
   "source": [
    "def plot_distribution(y_pred):\n",
    "    y_pred_sorted = np.sort(y_pred)\n",
    "    top_1000_threshold = y_pred_sorted[-1000]\n",
    "    \n",
    "    \n",
    "    plt.figure(figsize=(10, 6))\n",
    "    plt.hist(y_pred_sorted, bins=50, color='skyblue', edgecolor='black')\n",
    "    plt.axvline(x=0.5, color='red', linestyle='--', label='Threshold 0.5')\n",
    "    plt.axvline(x=top_1000_threshold, color='green', linestyle='--', label='Top 1000 threshold')\n",
    "    \n",
    "    plt.title('Probability distribution')\n",
    "    plt.xlabel('Probability')\n",
    "    plt.ylabel('Count (bin)')\n",
    "    plt.legend()\n",
    "    plt.tight_layout()\n",
    "    plt.show()\n",
    "\n",
    "def fit_and_plot(X, y, base_model, selected, X_test):\n",
    "    model = clone(base_model)\n",
    "    pipeline = Pipeline([\n",
    "        ('scale', StandardScaler()),\n",
    "        ('clf', model)\n",
    "    ])\n",
    "    X_cv = X[:, selected]\n",
    "    X_val = X_test[:, selected]\n",
    "    pipeline.fit(X_cv, y)\n",
    "    y_val_prob = pipeline.predict_proba(X_val)[:, 1]\n",
    "    plot_distribution(y_val_prob)"
   ]
  },
  {
   "cell_type": "code",
   "execution_count": 50,
   "id": "bad3e4b9",
   "metadata": {},
   "outputs": [
    {
     "data": {
      "image/png": "[encoded data removed]",
      "text/plain": [
       "<Figure size 1000x600 with 1 Axes>"
      ]
     },
     "metadata": {},
     "output_type": "display_data"
    }
   ],
   "source": [
    "fit_and_plot(X, y, LogisticRegression(random_state=10), [8], X_test)"
   ]
  },
  {
   "cell_type": "code",
   "execution_count": 55,
   "id": "2eeb2d5a",
   "metadata": {},
   "outputs": [
    {
     "data": {
      "image/png": "[encoded data removed]",
      "text/plain": [
       "<Figure size 1000x600 with 1 Axes>"
      ]
     },
     "metadata": {},
     "output_type": "display_data"
    }
   ],
   "source": [
    "fit_and_plot(X, y, BernoulliNB(), [2], X_test)"
   ]
  },
  {
   "cell_type": "code",
   "execution_count": 51,
   "id": "1b5abdf5",
   "metadata": {},
   "outputs": [
    {
     "data": {
      "image/png": "[encoded data removed]",
      "text/plain": [
       "<Figure size 1000x600 with 1 Axes>"
      ]
     },
     "metadata": {},
     "output_type": "display_data"
    }
   ],
   "source": [
    "fit_and_plot(X, y, RandomForestClassifier(max_depth=5, random_state=10), [8, 139], X_test)"
   ]
  },
  {
   "cell_type": "code",
   "execution_count": 52,
   "id": "3ebc04cd",
   "metadata": {},
   "outputs": [
    {
     "data": {
      "image/png": "[encoded data removed]",
      "text/plain": [
       "<Figure size 1000x600 with 1 Axes>"
      ]
     },
     "metadata": {},
     "output_type": "display_data"
    }
   ],
   "source": [
    "fit_and_plot(X, y, GradientBoostingClassifier(random_state=10), [3], X_test)"
   ]
  }
 ],
 "metadata": {
  "kernelspec": {
   "display_name": ".venv",
   "language": "python",
   "name": "python3"
  },
  "language_info": {
   "codemirror_mode": {
    "name": "ipython",
    "version": 3
   },
   "file_extension": ".py",
   "mimetype": "text/x-python",
   "name": "python",
   "nbconvert_exporter": "python",
   "pygments_lexer": "ipython3",
   "version": "3.12.3"
  }
 },
 "nbformat": 4,
 "nbformat_minor": 5
}
