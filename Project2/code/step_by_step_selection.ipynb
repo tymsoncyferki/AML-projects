{
 "cells": [
  {
   "metadata": {
    "ExecuteTime": {
     "end_time": "2025-05-18T18:49:35.502880Z",
     "start_time": "2025-05-18T18:49:35.498691Z"
    }
   },
   "cell_type": "code",
   "source": [
    "import pandas as pd\n",
    "import numpy as np\n",
    "from utils import load_data\n",
    "import warnings\n",
    "warnings.filterwarnings('ignore')"
   ],
   "id": "2720ff8c378c4be0",
   "outputs": [],
   "execution_count": 148
  },
  {
   "metadata": {
    "ExecuteTime": {
     "end_time": "2025-05-18T18:49:37.417687Z",
     "start_time": "2025-05-18T18:49:36.814602Z"
    }
   },
   "cell_type": "code",
   "source": [
    "df = pd.DataFrame(load_data('x_train.txt'))\n",
    "y = pd.DataFrame(load_data('y_train.txt'))\n",
    "\n",
    "\n",
    "df = pd.concat([df, y], axis=1)"
   ],
   "id": "9fd9cef1fa38af58",
   "outputs": [],
   "execution_count": 149
  },
  {
   "metadata": {
    "ExecuteTime": {
     "end_time": "2025-05-18T18:49:41.724524Z",
     "start_time": "2025-05-18T18:49:41.719572Z"
    }
   },
   "cell_type": "code",
   "source": "df.columns = [f'col{i}' for i in range(len(df.columns))]",
   "id": "6bd0a114707b76f1",
   "outputs": [],
   "execution_count": 150
  },
  {
   "metadata": {
    "ExecuteTime": {
     "end_time": "2025-05-18T17:29:39.745708Z",
     "start_time": "2025-05-18T17:29:39.728999Z"
    }
   },
   "cell_type": "code",
   "source": "df = df.dropna(axis=1)",
   "id": "e1ff6edd44cd4b10",
   "outputs": [],
   "execution_count": 141
  },
  {
   "metadata": {
    "ExecuteTime": {
     "end_time": "2025-05-18T17:29:40.340105Z",
     "start_time": "2025-05-18T17:29:40.335712Z"
    }
   },
   "cell_type": "code",
   "source": [
    "def remove_highly_correlated(data, threshold=0.85):\n",
    "    corr_matrix = data.corr().abs()\n",
    "    upper = corr_matrix.where(np.triu(np.ones(corr_matrix.shape), k=1).astype(bool))\n",
    "    to_drop = [column for column in upper.columns if any(upper[column] > threshold)]\n",
    "    return data.drop(columns=to_drop)"
   ],
   "id": "25347963d4f35a65",
   "outputs": [],
   "execution_count": 142
  },
  {
   "metadata": {
    "ExecuteTime": {
     "end_time": "2025-05-18T17:29:42.073829Z",
     "start_time": "2025-05-18T17:29:42.069670Z"
    }
   },
   "cell_type": "code",
   "source": [
    "def remove_outlier_columns(data, threshold=0.05):\n",
    "    numeric_data = data.select_dtypes(include=[np.number])\n",
    "    to_drop = []\n",
    "    for col in numeric_data.columns:\n",
    "        Q1 = data[col].quantile(0.25)\n",
    "        Q3 = data[col].quantile(0.75)\n",
    "        IQR = Q3 - Q1\n",
    "        outliers = ((data[col] < (Q1 - 1.5 * IQR)) | (data[col] > (Q3 + 1.5 * IQR))).sum()\n",
    "        if outliers / data.shape[0] > threshold:\n",
    "            to_drop.append(col)\n",
    "    return data.drop(columns=to_drop)"
   ],
   "id": "489b0251d3abd907",
   "outputs": [],
   "execution_count": 143
  },
  {
   "metadata": {
    "ExecuteTime": {
     "end_time": "2025-05-18T17:29:46.530043Z",
     "start_time": "2025-05-18T17:29:42.736418Z"
    }
   },
   "cell_type": "code",
   "source": "df = remove_highly_correlated(df)",
   "id": "43a0f7b541933c87",
   "outputs": [],
   "execution_count": 144
  },
  {
   "metadata": {
    "ExecuteTime": {
     "end_time": "2025-05-18T17:29:47.343632Z",
     "start_time": "2025-05-18T17:29:46.531042Z"
    }
   },
   "cell_type": "code",
   "source": "df = remove_outlier_columns(df)",
   "id": "8129fa9672311905",
   "outputs": [],
   "execution_count": 145
  },
  {
   "metadata": {
    "ExecuteTime": {
     "end_time": "2025-05-18T17:29:50.713259Z",
     "start_time": "2025-05-18T17:29:47.344631Z"
    }
   },
   "cell_type": "code",
   "source": [
    "correlation_with_target = df.corr()['col500'].abs()\n",
    "relevant_features = correlation_with_target[correlation_with_target > 0.05].index.tolist()\n",
    "df = df[relevant_features]"
   ],
   "id": "941b6f641565c347",
   "outputs": [],
   "execution_count": 146
  },
  {
   "metadata": {
    "ExecuteTime": {
     "end_time": "2025-05-18T16:02:52.389879Z",
     "start_time": "2025-05-18T16:02:52.317901Z"
    }
   },
   "cell_type": "code",
   "source": "df.to_csv('step_by_step_5_features.csv', index=False)",
   "id": "62e386504134ee90",
   "outputs": [],
   "execution_count": 119
  }
 ],
 "metadata": {
  "kernelspec": {
   "display_name": "Python 3",
   "language": "python",
   "name": "python3"
  },
  "language_info": {
   "codemirror_mode": {
    "name": "ipython",
    "version": 2
   },
   "file_extension": ".py",
   "mimetype": "text/x-python",
   "name": "python",
   "nbconvert_exporter": "python",
   "pygments_lexer": "ipython2",
   "version": "2.7.6"
  }
 },
 "nbformat": 4,
 "nbformat_minor": 5
}
