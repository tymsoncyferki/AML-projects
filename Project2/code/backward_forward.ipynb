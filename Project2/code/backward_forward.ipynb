{
 "cells": [
  {
   "cell_type": "code",
   "id": "initial_id",
   "metadata": {
    "collapsed": true,
    "ExecuteTime": {
     "end_time": "2025-05-17T13:59:46.175274Z",
     "start_time": "2025-05-17T13:59:46.150050Z"
    }
   },
   "source": [
    "import pandas as pd\n",
    "import numpy as np\n",
    "import statsmodels.api as sm\n",
    "from sklearn.metrics import roc_auc_score\n",
    "from sklearn.model_selection import train_test_split\n",
    "from utils import custom_score, load_data\n",
    "import warnings\n",
    "warnings.filterwarnings('ignore')"
   ],
   "outputs": [],
   "execution_count": 3
  },
  {
   "metadata": {
    "ExecuteTime": {
     "end_time": "2025-05-17T15:12:54.788557Z",
     "start_time": "2025-05-17T15:12:54.776018Z"
    }
   },
   "cell_type": "code",
   "source": [
    "import numpy as np\n",
    "import statsmodels.api as sm\n",
    "from sklearn.metrics import roc_auc_score, accuracy_score\n",
    "from sklearn.model_selection import train_test_split\n",
    "\n",
    "def backward_forward_selection(X, y, p_thresh=0.05, random_state=42):\n",
    "    np.random.seed(random_state)\n",
    "    n_samples, n_features = X.shape\n",
    "    all_indices = list(range(n_features))\n",
    "\n",
    "    # Losujemy 250 zmiennych\n",
    "    selected = list(np.random.choice(all_indices, size=10, replace=False))\n",
    "    remaining = list(set(all_indices) - set(selected))\n",
    "\n",
    "    print(f\"Początkowo wybrano {len(selected)} zmiennych.\")\n",
    "\n",
    "    # Podział danych\n",
    "    X_train, X_test, y_train, y_test = train_test_split(X, y, test_size=0.3, random_state=random_state)\n",
    "\n",
    "    def fit_model(feature_indices):\n",
    "        X_train_sel = X_train[:, feature_indices]\n",
    "        X_test_sel = X_test[:, feature_indices]\n",
    "        X_train_sel = sm.add_constant(X_train_sel, has_constant='add')\n",
    "        X_test_sel = sm.add_constant(X_test_sel, has_constant='add')\n",
    "        model = sm.Logit(y_train, X_train_sel).fit(disp=0)\n",
    "        y_pred = model.predict(X_test_sel)\n",
    "        return model, custom_score(y_test, y_pred, len(feature_indices)), accuracy_score(y_test, np.round(y_pred))\n",
    "\n",
    "    model, best_score, acc = fit_model(selected)\n",
    "    print(f\"Startowy score: {best_score:.4f}\")\n",
    "    print(f\"Startowy acc: {acc:.4f}\")\n",
    "\n",
    "    improved = True\n",
    "    iteration = 0\n",
    "\n",
    "    while improved:\n",
    "        improved = False\n",
    "        iteration += 1\n",
    "        print(f\"\\nIteracja {iteration}\")\n",
    "\n",
    "        try:\n",
    "            pvalues = model.pvalues[1:]  # bez const\n",
    "        except:\n",
    "            pvalues = np.ones(len(selected))  # fallback\n",
    "\n",
    "        for i, feature in enumerate(selected.copy()):\n",
    "            if pvalues[i] > p_thresh:\n",
    "                trial_selected = selected.copy()\n",
    "                trial_selected.remove(feature)\n",
    "                try:\n",
    "                    trial_model, trial_score, acc = fit_model(trial_selected)\n",
    "                    if trial_score > best_score:\n",
    "                        print(f\"Usunięto {feature} (lepszy score: {trial_score:.4f}), liczba zmiennych: {len(trial_selected)}, acc: {acc}\")\n",
    "                        selected = trial_selected\n",
    "                        remaining.append(feature)\n",
    "                        model = trial_model\n",
    "                        best_score = trial_score\n",
    "                        improved = True\n",
    "                        break\n",
    "                except Exception as e:\n",
    "                    print(f\"Błąd przy usuwaniu {feature}: {e}\")\n",
    "                    continue\n",
    "\n",
    "        for feature in remaining.copy():\n",
    "            trial_selected = selected + [feature]\n",
    "            try:\n",
    "                trial_model, trial_score, acc = fit_model(trial_selected)\n",
    "                pval_index = trial_selected.index(feature) + 1\n",
    "                pval = trial_model.pvalues[pval_index]\n",
    "                if pval < p_thresh and trial_score > best_score:\n",
    "                    print(f\"Dodano {feature} (p={pval:.4f}) (lepszy score: {trial_score:.4f}), liczba zmiennych: {len(trial_selected)}, acc: {acc}\")\n",
    "                    selected = trial_selected\n",
    "                    remaining.remove(feature)\n",
    "                    model = trial_model\n",
    "                    best_score = trial_score\n",
    "                    improved = True\n",
    "                    break\n",
    "            except Exception as e:\n",
    "                print(f\"Błąd przy dodawaniu {feature}: {e}\")\n",
    "                continue\n",
    "\n",
    "    print(f\"Zakończono. Wybrano {len(selected)} zmiennych. Ostateczny score: {best_score:.4f}\")\n",
    "    return selected, model, best_score\n"
   ],
   "id": "ad3d00cabd497c09",
   "outputs": [],
   "execution_count": 21
  },
  {
   "metadata": {
    "ExecuteTime": {
     "end_time": "2025-05-17T15:13:10.894072Z",
     "start_time": "2025-05-17T15:12:56.173845Z"
    }
   },
   "cell_type": "code",
   "source": [
    "X_train = load_data('x_train.txt')\n",
    "y_train = load_data('y_train.txt')\n",
    "\n",
    "X = X_train.to_numpy()\n",
    "y = y_train[0].to_numpy()\n",
    "\n",
    "selected_features, final_model, final_score = backward_forward_selection(X, y)\n",
    "\n",
    "print(\"Wybrane zmienne:\", selected_features)\n",
    "print(\"Ostateczny score:\", final_score)"
   ],
   "id": "937999322480120c",
   "outputs": [
    {
     "name": "stdout",
     "output_type": "stream",
     "text": [
      "Początkowo wybrano 10 zmiennych.\n",
      "Startowy score: 2666.6667\n",
      "Startowy acc: 0.4807\n",
      "\n",
      "Iteracja 1\n",
      "Usunięto 361 (lepszy score: 2700.0000), liczba zmiennych: 9, acc: 0.482\n",
      "Dodano 0 (p=0.0000) (lepszy score: 4933.3333), liczba zmiennych: 10, acc: 0.6566666666666666\n",
      "\n",
      "Iteracja 2\n",
      "Usunięto 73 (lepszy score: 5100.0000), liczba zmiennych: 9, acc: 0.6526666666666666\n",
      "Dodano 2 (p=0.0000) (lepszy score: 5266.6667), liczba zmiennych: 10, acc: 0.696\n",
      "\n",
      "Iteracja 3\n",
      "Usunięto 374 (lepszy score: 5500.0000), liczba zmiennych: 9, acc: 0.694\n",
      "\n",
      "Iteracja 4\n",
      "Usunięto 104 (lepszy score: 5666.6667), liczba zmiennych: 8, acc: 0.6933333333333334\n",
      "\n",
      "Iteracja 5\n",
      "Usunięto 394 (lepszy score: 5900.0000), liczba zmiennych: 7, acc: 0.6913333333333334\n",
      "\n",
      "Iteracja 6\n",
      "Usunięto 377 (lepszy score: 6066.6667), liczba zmiennych: 6, acc: 0.6953333333333334\n",
      "\n",
      "Iteracja 7\n",
      "Usunięto 124 (lepszy score: 6266.6667), liczba zmiennych: 5, acc: 0.6966666666666667\n",
      "\n",
      "Iteracja 8\n",
      "Usunięto 68 (lepszy score: 6466.6667), liczba zmiennych: 4, acc: 0.696\n",
      "\n",
      "Iteracja 9\n",
      "Usunięto 450 (lepszy score: 6600.0000), liczba zmiennych: 3, acc: 0.6973333333333334\n",
      "\n",
      "Iteracja 10\n",
      "Zakończono. Wybrano 3 zmiennych. Ostateczny score: 6600.0000\n",
      "Wybrane zmienne: [np.int64(155), 0, 2]\n",
      "Ostateczny score: 6600.0\n"
     ]
    }
   ],
   "execution_count": 22
  }
 ],
 "metadata": {
  "kernelspec": {
   "display_name": "Python 3",
   "language": "python",
   "name": "python3"
  },
  "language_info": {
   "codemirror_mode": {
    "name": "ipython",
    "version": 2
   },
   "file_extension": ".py",
   "mimetype": "text/x-python",
   "name": "python",
   "nbconvert_exporter": "python",
   "pygments_lexer": "ipython2",
   "version": "2.7.6"
  }
 },
 "nbformat": 4,
 "nbformat_minor": 5
}
