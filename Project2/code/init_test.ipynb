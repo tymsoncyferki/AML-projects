{
 "cells": [
  {
   "cell_type": "code",
   "execution_count": 119,
   "id": "60526ed7",
   "metadata": {},
   "outputs": [],
   "source": [
    "import numpy as np\n",
    "import pandas as pd\n",
    "from tqdm import tqdm\n",
    "from sklearn.linear_model import LogisticRegression\n",
    "from sklearn.feature_selection import SelectKBest, f_classif\n",
    "from sklearn.model_selection import StratifiedKFold\n",
    "from sklearn.pipeline import Pipeline\n",
    "from sklearn.preprocessing import StandardScaler\n",
    "from sklearn.metrics import accuracy_score\n",
    "from sklearn.base import clone\n",
    "from sklearn.tree import DecisionTreeClassifier\n",
    "from xgboost import XGBClassifier\n",
    "\n",
    "from utils import custom_score, load_data"
   ]
  },
  {
   "cell_type": "code",
   "execution_count": 99,
   "id": "612b458b",
   "metadata": {},
   "outputs": [],
   "source": [
    "X_train = load_data('x_train.txt')\n",
    "y_train = load_data('y_train.txt')\n",
    "\n",
    "X = X_train.to_numpy()\n",
    "y = y_train[0].to_numpy()"
   ]
  },
  {
   "cell_type": "code",
   "execution_count": 102,
   "id": "fce7f887",
   "metadata": {},
   "outputs": [],
   "source": [
    "def kbest_feature_selection(X, y, base_model, n_features=range(1, 21), n_splits=5):\n",
    "    best_score = 0\n",
    "    best_k = None\n",
    "\n",
    "    for num_features in n_features:\n",
    "        kf = StratifiedKFold(n_splits=n_splits, shuffle=True, random_state=42)\n",
    "        scores = []\n",
    "        accs = []\n",
    "\n",
    "        for train_idx, val_idx in kf.split(X, y):    \n",
    "            X_cv, X_val = X[train_idx], X[val_idx]\n",
    "            y_cv, y_val = y[train_idx], y[val_idx]\n",
    "\n",
    "            pipeline = Pipeline([\n",
    "                ('select', SelectKBest(score_func=f_classif, k=num_features)),\n",
    "                ('scale', StandardScaler()),\n",
    "                ('clf', clone(base_model))\n",
    "            ])\n",
    "            \n",
    "            pipeline.fit(X_cv, y_cv)\n",
    "            y_val_prob = pipeline.predict_proba(X_val)[:, 1]\n",
    "            \n",
    "            score = custom_score(y_val, y_val_prob, num_features)\n",
    "            scores.append(score)\n",
    "\n",
    "            accuracy = accuracy_score(y_val, np.round(y_val_prob))\n",
    "            accs.append(accuracy)\n",
    "\n",
    "        avg_score = np.mean(scores)\n",
    "        if avg_score > best_score:\n",
    "            best_score = avg_score\n",
    "            best_k = num_features\n",
    "\n",
    "        print(f\"N features = {num_features}, Custom CV score: {avg_score:.2f} +/- {np.std(scores):.2f}, Accuracy: {np.mean(accs):.2f} +/- {np.std(accs):.2f}\")\n",
    "    \n",
    "    selector = SelectKBest(score_func=f_classif, k=best_k)\n",
    "    selector.fit(X, y)\n",
    "    best_features = selector.get_support(indices=True)\n",
    "\n",
    "    return best_features, best_score"
   ]
  },
  {
   "cell_type": "code",
   "execution_count": 108,
   "id": "6855e7ad",
   "metadata": {},
   "outputs": [],
   "source": [
    "def greedy_feature_selection(X, y, base_model, max_features=20, cv_splits=5, verbose=True):\n",
    "    n_features_total = X.shape[1]\n",
    "    selected = []\n",
    "    remaining = list(range(n_features_total))\n",
    "    best_score = -np.inf\n",
    "\n",
    "    kf = StratifiedKFold(n_splits=cv_splits, shuffle=True, random_state=42)\n",
    "\n",
    "    i = 1\n",
    "    while len(selected) < max_features and remaining:\n",
    "        scores = []\n",
    "        for candidate in tqdm(remaining, total=len(remaining)):\n",
    "            current_features = selected + [candidate]\n",
    "            fold_scores = []\n",
    "\n",
    "            for train_idx, val_idx in kf.split(X, y):\n",
    "                X_cv, X_val = X[train_idx][:, current_features], X[val_idx][:, current_features]\n",
    "                y_cv, y_val = y[train_idx], y[val_idx]\n",
    "\n",
    "                model = clone(base_model)\n",
    "                pipeline = Pipeline([\n",
    "                    ('scale', StandardScaler()),\n",
    "                    ('clf', model)\n",
    "                ])\n",
    "                pipeline.fit(X_cv, y_cv)\n",
    "                y_val_prob = pipeline.predict_proba(X_val)[:, 1]\n",
    "\n",
    "                score = custom_score(y_val, y_val_prob, num_features=len(current_features))\n",
    "                fold_scores.append(score)\n",
    "\n",
    "            avg_score = np.mean(fold_scores)\n",
    "            scores.append((avg_score, candidate))\n",
    "\n",
    "        scores.sort(reverse=True)\n",
    "        top_score, top_feature = scores[0]\n",
    "\n",
    "        if top_score > best_score:\n",
    "            selected.append(top_feature)\n",
    "            remaining.remove(top_feature)\n",
    "            best_score = top_score\n",
    "            if verbose:\n",
    "                print(f\"Iteration {i}: added feature {top_feature}, score improved to {top_score:.2f}\")\n",
    "        else:\n",
    "            if verbose:\n",
    "                print(f\"Iteration {i}: no further improvement, stopping\")\n",
    "            break\n",
    "        i += 1\n",
    "\n",
    "    return selected, best_score"
   ]
  },
  {
   "cell_type": "code",
   "execution_count": 103,
   "id": "905c9b03",
   "metadata": {},
   "outputs": [
    {
     "name": "stdout",
     "output_type": "stream",
     "text": [
      "N features = 1, Custom CV score: 7050.00 +/- 331.66, Accuracy: 0.71 +/- 0.01\n",
      "N features = 2, Custom CV score: 6850.00 +/- 364.69, Accuracy: 0.71 +/- 0.01\n",
      "N features = 3, Custom CV score: 6660.00 +/- 367.97, Accuracy: 0.71 +/- 0.01\n",
      "N features = 4, Custom CV score: 6460.00 +/- 392.94, Accuracy: 0.71 +/- 0.01\n",
      "N features = 5, Custom CV score: 6260.00 +/- 377.36, Accuracy: 0.72 +/- 0.01\n",
      "N features = 6, Custom CV score: 6100.00 +/- 380.79, Accuracy: 0.71 +/- 0.01\n",
      "N features = 7, Custom CV score: 5880.00 +/- 331.06, Accuracy: 0.72 +/- 0.01\n",
      "N features = 8, Custom CV score: 5700.00 +/- 314.64, Accuracy: 0.72 +/- 0.01\n",
      "N features = 9, Custom CV score: 5490.00 +/- 281.78, Accuracy: 0.72 +/- 0.01\n",
      "N features = 10, Custom CV score: 5290.00 +/- 310.48, Accuracy: 0.72 +/- 0.01\n",
      "N features = 11, Custom CV score: 5060.00 +/- 287.05, Accuracy: 0.72 +/- 0.01\n",
      "N features = 12, Custom CV score: 4870.00 +/- 274.95, Accuracy: 0.72 +/- 0.01\n",
      "N features = 13, Custom CV score: 4660.00 +/- 297.32, Accuracy: 0.72 +/- 0.01\n",
      "N features = 14, Custom CV score: 4520.00 +/- 329.55, Accuracy: 0.71 +/- 0.01\n",
      "N features = 15, Custom CV score: 4260.00 +/- 215.41, Accuracy: 0.71 +/- 0.01\n",
      "N features = 16, Custom CV score: 4120.00 +/- 269.44, Accuracy: 0.70 +/- 0.01\n",
      "N features = 17, Custom CV score: 3850.00 +/- 240.83, Accuracy: 0.71 +/- 0.01\n",
      "N features = 18, Custom CV score: 3630.00 +/- 218.17, Accuracy: 0.70 +/- 0.01\n",
      "N features = 19, Custom CV score: 3400.00 +/- 202.48, Accuracy: 0.70 +/- 0.01\n",
      "N features = 20, Custom CV score: 3210.00 +/- 188.15, Accuracy: 0.70 +/- 0.02\n",
      "\n",
      "Final selected features: [2]\n",
      "Best CV score: 7050.00\n"
     ]
    }
   ],
   "source": [
    "selected_features, best_cv_score = kbest_feature_selection(\n",
    "    X, y,\n",
    "    base_model=LogisticRegression(max_iter=1000)\n",
    ")\n",
    "\n",
    "print(f\"\\nFinal selected features: {selected_features}\")\n",
    "print(f\"Best CV score: {best_cv_score:.2f}\")"
   ]
  },
  {
   "cell_type": "code",
   "execution_count": 104,
   "id": "3157e354",
   "metadata": {},
   "outputs": [
    {
     "name": "stdout",
     "output_type": "stream",
     "text": [
      "N features = 1, Custom CV score: 7050.00 +/- 176.07, Accuracy: 0.69 +/- 0.01\n",
      "N features = 2, Custom CV score: 6860.00 +/- 177.20, Accuracy: 0.67 +/- 0.01\n",
      "N features = 3, Custom CV score: 6550.00 +/- 148.32, Accuracy: 0.67 +/- 0.01\n",
      "N features = 4, Custom CV score: 6530.00 +/- 180.55, Accuracy: 0.67 +/- 0.00\n",
      "N features = 5, Custom CV score: 6320.00 +/- 81.24, Accuracy: 0.67 +/- 0.01\n",
      "N features = 6, Custom CV score: 6100.00 +/- 144.91, Accuracy: 0.69 +/- 0.01\n",
      "N features = 7, Custom CV score: 5790.00 +/- 220.00, Accuracy: 0.68 +/- 0.00\n",
      "N features = 8, Custom CV score: 5650.00 +/- 83.67, Accuracy: 0.68 +/- 0.01\n",
      "N features = 9, Custom CV score: 5450.00 +/- 100.00, Accuracy: 0.68 +/- 0.01\n",
      "N features = 10, Custom CV score: 5090.00 +/- 80.00, Accuracy: 0.68 +/- 0.01\n",
      "N features = 11, Custom CV score: 4920.00 +/- 196.47, Accuracy: 0.68 +/- 0.01\n",
      "N features = 12, Custom CV score: 4760.00 +/- 80.00, Accuracy: 0.68 +/- 0.01\n",
      "N features = 13, Custom CV score: 4570.00 +/- 199.00, Accuracy: 0.68 +/- 0.01\n",
      "N features = 14, Custom CV score: 4400.00 +/- 148.32, Accuracy: 0.68 +/- 0.01\n",
      "N features = 15, Custom CV score: 4170.00 +/- 265.71, Accuracy: 0.68 +/- 0.02\n",
      "N features = 16, Custom CV score: 3930.00 +/- 81.24, Accuracy: 0.68 +/- 0.02\n",
      "N features = 17, Custom CV score: 3830.00 +/- 143.53, Accuracy: 0.69 +/- 0.02\n",
      "N features = 18, Custom CV score: 3490.00 +/- 292.23, Accuracy: 0.69 +/- 0.01\n",
      "N features = 19, Custom CV score: 3460.00 +/- 335.26, Accuracy: 0.69 +/- 0.01\n",
      "N features = 20, Custom CV score: 3320.00 +/- 186.01, Accuracy: 0.69 +/- 0.02\n",
      "\n",
      "Final selected features: [2]\n",
      "Best CV score: 7050.00\n"
     ]
    }
   ],
   "source": [
    "selected_features, best_cv_score = kbest_feature_selection(\n",
    "    X, y,\n",
    "    base_model=XGBClassifier()\n",
    ")\n",
    "\n",
    "print(f\"\\nFinal selected features: {selected_features}\")\n",
    "print(f\"Best CV score: {best_cv_score:.2f}\")"
   ]
  },
  {
   "cell_type": "code",
   "execution_count": 87,
   "id": "1c937fb8",
   "metadata": {},
   "outputs": [
    {
     "name": "stdout",
     "output_type": "stream",
     "text": [
      "Iteration 1: added feature 8, score improved to 7210.00\n",
      "Iteration 2: no further improvement, stopping\n",
      "\n",
      "Final selected features: [8]\n",
      "Best CV score: 7210.00\n"
     ]
    }
   ],
   "source": [
    "selected_features, best_cv_score = greedy_feature_selection(\n",
    "    X, y,\n",
    "    base_model=LogisticRegression(max_iter=1000)\n",
    ")\n",
    "\n",
    "print(f\"\\nFinal selected features: {selected_features}\")\n",
    "print(f\"Best CV score: {best_cv_score:.2f}\")"
   ]
  },
  {
   "cell_type": "code",
   "execution_count": 120,
   "id": "475d73ae",
   "metadata": {},
   "outputs": [
    {
     "name": "stderr",
     "output_type": "stream",
     "text": [
      "  0%|          | 0/500 [00:00<?, ?it/s]"
     ]
    },
    {
     "name": "stderr",
     "output_type": "stream",
     "text": [
      "100%|██████████| 500/500 [01:10<00:00,  7.07it/s]\n"
     ]
    },
    {
     "name": "stdout",
     "output_type": "stream",
     "text": [
      "Iteration 1: added feature 2, score improved to 5540.00\n"
     ]
    },
    {
     "name": "stderr",
     "output_type": "stream",
     "text": [
      "100%|██████████| 499/499 [01:20<00:00,  6.16it/s]\n"
     ]
    },
    {
     "name": "stdout",
     "output_type": "stream",
     "text": [
      "Iteration 2: added feature 113, score improved to 5730.00\n"
     ]
    },
    {
     "name": "stderr",
     "output_type": "stream",
     "text": [
      "100%|██████████| 498/498 [01:35<00:00,  5.20it/s]\n"
     ]
    },
    {
     "name": "stdout",
     "output_type": "stream",
     "text": [
      "Iteration 3: no further improvement, stopping\n",
      "\n",
      "Final selected features: [2, 113]\n",
      "Best CV score: 5730.00\n"
     ]
    }
   ],
   "source": [
    "selected_features, best_cv_score = greedy_feature_selection(\n",
    "    X, y,\n",
    "    base_model=DecisionTreeClassifier()\n",
    ")\n",
    "\n",
    "print(f\"\\nFinal selected features: {selected_features}\")\n",
    "print(f\"Best CV score: {best_cv_score:.2f}\")"
   ]
  }
 ],
 "metadata": {
  "kernelspec": {
   "display_name": ".venv",
   "language": "python",
   "name": "python3"
  },
  "language_info": {
   "codemirror_mode": {
    "name": "ipython",
    "version": 3
   },
   "file_extension": ".py",
   "mimetype": "text/x-python",
   "name": "python",
   "nbconvert_exporter": "python",
   "pygments_lexer": "ipython3",
   "version": "3.12.3"
  }
 },
 "nbformat": 4,
 "nbformat_minor": 5
}
