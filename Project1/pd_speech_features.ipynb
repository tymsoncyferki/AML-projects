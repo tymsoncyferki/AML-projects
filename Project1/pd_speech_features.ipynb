{
 "cells": [
  {
   "cell_type": "code",
   "id": "initial_id",
   "metadata": {
    "collapsed": true,
    "ExecuteTime": {
     "end_time": "2025-03-12T19:50:59.578601Z",
     "start_time": "2025-03-12T19:50:59.564611Z"
    }
   },
   "source": [
    "import pandas as pd\n",
    "import numpy as np\n",
    "from sklearn.preprocessing import StandardScaler"
   ],
   "outputs": [],
   "execution_count": 6
  },
  {
   "metadata": {
    "ExecuteTime": {
     "end_time": "2025-03-12T19:53:46.097733Z",
     "start_time": "2025-03-12T19:53:45.964476Z"
    }
   },
   "cell_type": "code",
   "source": [
    "data = pd.read_csv(\"raw_data/pd_speech_features.csv\").drop(columns=['id'])\n",
    "data.rename(columns={data.columns[-1]: 'target'}, inplace=True)"
   ],
   "id": "783395b0c7096435",
   "outputs": [],
   "execution_count": 16
  },
  {
   "metadata": {
    "ExecuteTime": {
     "end_time": "2025-03-12T19:53:48.396683Z",
     "start_time": "2025-03-12T19:53:47.264138Z"
    }
   },
   "cell_type": "code",
   "source": [
    "corr_matrix = data.drop(columns=['target']).corr().abs()\n",
    "upper = corr_matrix.where(np.triu(np.ones(corr_matrix.shape), k=1).astype(bool))\n",
    "to_drop = [column for column in upper.columns if any(upper[column] > 0.9)]\n",
    "data.drop(columns=to_drop, inplace=True)"
   ],
   "id": "c3be1ec2be21499d",
   "outputs": [],
   "execution_count": 17
  },
  {
   "metadata": {
    "ExecuteTime": {
     "end_time": "2025-03-12T19:53:49.301455Z",
     "start_time": "2025-03-12T19:53:49.143847Z"
    }
   },
   "cell_type": "code",
   "source": [
    "X = data.drop(columns=['target'])\n",
    "y = data['target']\n",
    "\n",
    "binary_cols = X.nunique()[X.nunique() == 2].index\n",
    "numeric_cols = X.columns.difference(binary_cols)\n",
    "\n",
    "scaler = StandardScaler()\n",
    "X_scaled = scaler.fit_transform(X[numeric_cols])\n",
    "X_scaled_df = pd.DataFrame(X_scaled, columns=numeric_cols)\n",
    "X_final = pd.concat([X_scaled_df, X[binary_cols].reset_index(drop=True)], axis=1)\n",
    "data_scaled = pd.concat([X_final, y], axis=1)"
   ],
   "id": "144d93d910610009",
   "outputs": [],
   "execution_count": 18
  },
  {
   "metadata": {
    "ExecuteTime": {
     "end_time": "2025-03-12T19:57:20.477111Z",
     "start_time": "2025-03-12T19:57:20.463148Z"
    }
   },
   "cell_type": "code",
   "source": [
    "new_column_names = {col: i for i, col in enumerate(data.columns[:-1])}  \n",
    "data = data.rename(columns=new_column_names)"
   ],
   "id": "36ee2eaffbc0e414",
   "outputs": [],
   "execution_count": 23
  },
  {
   "metadata": {
    "ExecuteTime": {
     "end_time": "2025-03-12T19:57:43.247446Z",
     "start_time": "2025-03-12T19:57:42.960156Z"
    }
   },
   "cell_type": "code",
   "source": "data.to_csv('data/speech.csv', index=False)",
   "id": "683299156e541537",
   "outputs": [],
   "execution_count": 25
  }
 ],
 "metadata": {
  "kernelspec": {
   "display_name": "Python 3",
   "language": "python",
   "name": "python3"
  },
  "language_info": {
   "codemirror_mode": {
    "name": "ipython",
    "version": 2
   },
   "file_extension": ".py",
   "mimetype": "text/x-python",
   "name": "python",
   "nbconvert_exporter": "python",
   "pygments_lexer": "ipython2",
   "version": "2.7.6"
  }
 },
 "nbformat": 4,
 "nbformat_minor": 5
}
