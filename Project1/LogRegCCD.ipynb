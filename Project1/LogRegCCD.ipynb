{
 "cells": [
  {
   "cell_type": "code",
   "execution_count": 4,
   "id": "514f1ec8681587fa",
   "metadata": {
    "ExecuteTime": {
     "end_time": "2025-03-25T21:32:14.598080Z",
     "start_time": "2025-03-25T21:32:14.594091Z"
    }
   },
   "outputs": [],
   "source": [
    "import numpy as np\n",
    "from sklearn.metrics import (\n",
    "    precision_score, recall_score, f1_score, balanced_accuracy_score, roc_auc_score, \n",
    "    average_precision_score\n",
    ")\n",
    "from sklearn.datasets import make_classification\n",
    "from sklearn.linear_model import LogisticRegression\n",
    "from sklearn.model_selection import train_test_split\n",
    "import pandas as pd"
   ]
  },
  {
   "cell_type": "code",
   "execution_count": null,
   "id": "initial_id",
   "metadata": {
    "ExecuteTime": {
     "end_time": "2025-03-25T22:19:04.387739Z",
     "start_time": "2025-03-25T22:19:04.365796Z"
    }
   },
   "outputs": [],
   "source": [
    "class LogRegCCD:\n",
    "    def __init__(self, lambda_min=1e-4, lambda_max=1.0, num_lambdas=100, alpha=1.0):\n",
    "        self.lambda_min = lambda_min\n",
    "        self.lambda_max = lambda_max\n",
    "        self.num_lambdas = num_lambdas\n",
    "        self.alpha = alpha\n",
    "        self.coefficients = None\n",
    "        self.lambdas = np.logspace(np.log10(lambda_max), np.log10(lambda_min), num_lambdas)\n",
    "        self.best_lambda = None\n",
    "\n",
    "    def _sigmoid(self, z):\n",
    "        return 1 / (1 + np.exp(-z))\n",
    "\n",
    "    def fit(self, X_train, y_train, lmbda=None):\n",
    "        if lmbda is None:\n",
    "            lmbda = self.lambda_min\n",
    "\n",
    "        n_samples, n_features = X_train.shape\n",
    "        self.coefficients = np.zeros(n_features + 1)\n",
    "\n",
    "        for _ in range(100):\n",
    "            intercept = self.coefficients[0]\n",
    "            weights = self.coefficients[1:]\n",
    "\n",
    "            for j in range(n_features):\n",
    "                partial_residual = y_train - self._sigmoid(np.dot(np.delete(X_train, j, axis=1), np.delete(weights, j)) + intercept)\n",
    "                gradient = np.dot(X_train[:, j].T, partial_residual.T) / n_samples\n",
    "                l1_penalty = self.alpha * lmbda\n",
    "                l2_penalty = (1 - self.alpha) * lmbda\n",
    "                soft_threshold = np.sign(gradient) * max(0.0, abs(gradient) - l1_penalty)\n",
    "                weights[j] = soft_threshold.item() / (1 + l2_penalty)\n",
    "\n",
    "            intercept += np.mean(y_train - self._sigmoid(np.dot(X_train, weights) + intercept))\n",
    "\n",
    "            self.coefficients[0] = intercept\n",
    "            self.coefficients[1:] = weights\n",
    "\n",
    "    def validate(self, X_valid, y_valid, measure=\"f1\"):\n",
    "        probabilities = self.predict_proba(X_valid)\n",
    "        predictions = (probabilities >= 0.5).astype(int)\n",
    "        \n",
    "        if measure == \"precision\":\n",
    "            return precision_score(y_valid, predictions)\n",
    "        elif measure == \"recall\":\n",
    "            return recall_score(y_valid, predictions)\n",
    "        elif measure == \"f1\":\n",
    "            return f1_score(y_valid, predictions)\n",
    "        elif measure == \"balanced_accuracy\":\n",
    "            return balanced_accuracy_score(y_valid, predictions)\n",
    "        elif measure == \"roc_auc\":\n",
    "            return roc_auc_score(y_valid, probabilities)\n",
    "        elif measure == \"pr_auc\":\n",
    "            return average_precision_score(y_valid, probabilities)\n",
    "        else:\n",
    "            raise ValueError(\"Unsupported measure: {}\".format(measure))\n",
    "\n",
    "    def predict_proba(self, X_test):\n",
    "        return np.asarray(self._sigmoid(np.dot(X_test, self.coefficients[1:]) + self.coefficients[0]).T).reshape(-1)\n",
    "\n",
    "    def optimize_lambda(self, X_train, y_train, X_valid, y_valid, measure=\"f1\"):\n",
    "        best_score = -np.inf\n",
    "        for lmbda in self.lambdas:\n",
    "            print(f'Fitting lmbda: {lmbda}')\n",
    "            self.fit(X_train, y_train, lmbda)\n",
    "            score = self.validate(X_valid, y_valid, measure=measure)\n",
    "            if score > best_score:\n",
    "                best_score = score\n",
    "                self.best_lambda = lmbda\n",
    "\n",
    "        return self.best_lambda"
   ]
  }
 ],
 "metadata": {
  "kernelspec": {
   "display_name": "venv",
   "language": "python",
   "name": "python3"
  },
  "language_info": {
   "codemirror_mode": {
    "name": "ipython",
    "version": 3
   },
   "file_extension": ".py",
   "mimetype": "text/x-python",
   "name": "python",
   "nbconvert_exporter": "python",
   "pygments_lexer": "ipython3",
   "version": "3.10.9"
  }
 },
 "nbformat": 4,
 "nbformat_minor": 5
}
