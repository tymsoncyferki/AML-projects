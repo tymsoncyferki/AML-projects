{
 "cells": [
  {
   "cell_type": "code",
   "execution_count": 104,
   "metadata": {},
   "outputs": [],
   "source": [
    "import nbformat\n",
    "import numpy as np\n",
    "from sklearn.metrics import (\n",
    "    precision_score, recall_score, f1_score, balanced_accuracy_score, roc_auc_score, \n",
    "    average_precision_score\n",
    ")\n",
    "from sklearn.datasets import make_classification\n",
    "from sklearn.linear_model import LogisticRegression\n",
    "from sklearn.model_selection import train_test_split\n",
    "import pandas as pd\n"
   ]
  },
  {
   "cell_type": "code",
   "execution_count": 105,
   "metadata": {},
   "outputs": [],
   "source": [
    "%run LogRegCCD.ipynb"
   ]
  },
  {
   "cell_type": "markdown",
   "metadata": {},
   "source": [
    "## Speech dataset"
   ]
  },
  {
   "cell_type": "code",
   "execution_count": null,
   "metadata": {},
   "outputs": [],
   "source": [
    "df = pd.read_csv('./data/speech.csv')\n",
    "X = np.asmatrix(df.drop(columns='target'))\n",
    "y = np.asarray(df['target'])\n",
    "X_train, X_test, y_train, y_test = train_test_split(X, y, test_size=0.3, random_state=42)"
   ]
  },
  {
   "cell_type": "code",
   "execution_count": null,
   "metadata": {},
   "outputs": [
    {
     "name": "stdout",
     "output_type": "stream",
     "text": [
      "Fitting lmbda: 1.0\n"
     ]
    },
    {
     "name": "stderr",
     "output_type": "stream",
     "text": [
      "/var/folders/ry/kcmcwh_95_jgg3sg1zp_pp5m0000gn/T/ipykernel_15505/4166350961.py:13: RuntimeWarning: overflow encountered in exp\n",
      "  return 1 / (1 + np.exp(-z))\n"
     ]
    },
    {
     "name": "stdout",
     "output_type": "stream",
     "text": [
      "PRECISION score: 0.14285714285714285\n",
      "Fitting lmbda: 0.1\n"
     ]
    },
    {
     "name": "stderr",
     "output_type": "stream",
     "text": [
      "/var/folders/ry/kcmcwh_95_jgg3sg1zp_pp5m0000gn/T/ipykernel_15505/4166350961.py:13: RuntimeWarning: overflow encountered in exp\n",
      "  return 1 / (1 + np.exp(-z))\n"
     ]
    },
    {
     "name": "stdout",
     "output_type": "stream",
     "text": [
      "PRECISION score: 0.14285714285714285\n",
      "Fitting lmbda: 0.01\n"
     ]
    },
    {
     "name": "stderr",
     "output_type": "stream",
     "text": [
      "/var/folders/ry/kcmcwh_95_jgg3sg1zp_pp5m0000gn/T/ipykernel_15505/4166350961.py:13: RuntimeWarning: overflow encountered in exp\n",
      "  return 1 / (1 + np.exp(-z))\n"
     ]
    },
    {
     "name": "stdout",
     "output_type": "stream",
     "text": [
      "PRECISION score: 0.14285714285714285\n",
      "Fitting lmbda: 0.001\n"
     ]
    },
    {
     "name": "stderr",
     "output_type": "stream",
     "text": [
      "/var/folders/ry/kcmcwh_95_jgg3sg1zp_pp5m0000gn/T/ipykernel_15505/4166350961.py:13: RuntimeWarning: overflow encountered in exp\n",
      "  return 1 / (1 + np.exp(-z))\n"
     ]
    },
    {
     "name": "stdout",
     "output_type": "stream",
     "text": [
      "PRECISION score: 0.14285714285714285\n",
      "Fitting lmbda: 0.0001\n"
     ]
    },
    {
     "name": "stderr",
     "output_type": "stream",
     "text": [
      "/var/folders/ry/kcmcwh_95_jgg3sg1zp_pp5m0000gn/T/ipykernel_15505/4166350961.py:13: RuntimeWarning: overflow encountered in exp\n",
      "  return 1 / (1 + np.exp(-z))\n"
     ]
    },
    {
     "name": "stdout",
     "output_type": "stream",
     "text": [
      "PRECISION score: 0.14285714285714285\n"
     ]
    },
    {
     "name": "stderr",
     "output_type": "stream",
     "text": [
      "/var/folders/ry/kcmcwh_95_jgg3sg1zp_pp5m0000gn/T/ipykernel_15505/4166350961.py:13: RuntimeWarning: overflow encountered in exp\n",
      "  return 1 / (1 + np.exp(-z))\n"
     ]
    },
    {
     "name": "stdout",
     "output_type": "stream",
     "text": [
      "LogRegCCD precision Score: 0.1200\n"
     ]
    }
   ],
   "source": [
    "ccd_model = LogRegCCD(num_lambdas=10)\n",
    "results, best_lambda = ccd_model.optimize_lambda(X_train, y_train, X_test, y_test, measure=\"f1\")\n",
    "ccd_model.fit(X_train, y_train, best_lambda)\n",
    "\n",
    "ccd_probs = ccd_model.predict_proba(X_test)\n",
    "ccd_preds = (ccd_probs >= 0.5).astype(int)\n",
    "ccd_f1 = f1_score(y_test, ccd_preds)\n",
    "print(f\"LogRegCCD F1 Score: {ccd_f1:.4f}\")"
   ]
  },
  {
   "cell_type": "code",
   "execution_count": null,
   "metadata": {},
   "outputs": [],
   "source": [
    "# ccd_model.plot(results, measure=\"precision\")"
   ]
  },
  {
   "cell_type": "code",
   "execution_count": 107,
   "metadata": {},
   "outputs": [],
   "source": [
    "# ccd_model.plot_coefficients(results)"
   ]
  },
  {
   "cell_type": "code",
   "execution_count": 31,
   "metadata": {},
   "outputs": [
    {
     "name": "stderr",
     "output_type": "stream",
     "text": [
      "/Users/mikolajmroz/Developer/AML-projects/Project1/venv/lib/python3.10/site-packages/sklearn/linear_model/_sag.py:348: ConvergenceWarning: The max_iter was reached which means the coef_ did not converge\n",
      "  warnings.warn(\n"
     ]
    }
   ],
   "source": [
    "logreg = LogisticRegression(max_iter=1000, penalty='elasticnet', solver='saga', l1_ratio=0.9)\n",
    "logreg.fit(np.asarray(X_train), y_train)\n",
    "sklearn_preds = logreg.predict(np.asarray(X_test))\n",
    "sklearn_f1 = f1_score(y_test, sklearn_preds)"
   ]
  },
  {
   "cell_type": "markdown",
   "metadata": {},
   "source": [
    "## Arrhythmia dataset"
   ]
  },
  {
   "cell_type": "code",
   "execution_count": 108,
   "metadata": {},
   "outputs": [],
   "source": [
    "df = pd.read_csv('./data/arrhythmia.csv')\n",
    "X = np.asmatrix(df.drop(columns='target'))\n",
    "y = np.asarray(df['target'])\n",
    "X_train, X_test, y_train, y_test = train_test_split(X, y, test_size=0.3, random_state=42)"
   ]
  },
  {
   "cell_type": "code",
   "execution_count": 109,
   "metadata": {},
   "outputs": [
    {
     "name": "stdout",
     "output_type": "stream",
     "text": [
      "Fitting lmbda: 1.0\n",
      "F1 score: 0.0\n",
      "Fitting lmbda: 0.35938136638046275\n",
      "F1 score: 0.0\n",
      "Fitting lmbda: 0.1291549665014884\n",
      "F1 score: 0.0\n",
      "Fitting lmbda: 0.046415888336127795\n",
      "F1 score: 0.0\n",
      "Fitting lmbda: 0.016681005372000592\n",
      "F1 score: 0.0\n",
      "Fitting lmbda: 0.005994842503189409\n",
      "F1 score: 0.0\n",
      "Fitting lmbda: 0.0021544346900318843\n",
      "F1 score: 0.0\n",
      "Fitting lmbda: 0.0007742636826811277\n",
      "F1 score: 0.0\n",
      "Fitting lmbda: 0.0002782559402207126\n",
      "F1 score: 0.0\n",
      "Fitting lmbda: 0.0001\n",
      "F1 score: 0.0\n",
      "LogRegCCD F1 Score: 0.0000\n"
     ]
    }
   ],
   "source": [
    "ccd_model = LogRegCCD(num_lambdas=10)\n",
    "results, best_lambda = ccd_model.optimize_lambda(X_train, y_train, X_test, y_test, measure=\"f1\")\n",
    "ccd_model.fit(X_train, y_train, best_lambda)\n",
    "\n",
    "ccd_probs = ccd_model.predict_proba(X_test)\n",
    "ccd_preds = (ccd_probs >= 0.5).astype(int)\n",
    "ccd_f1 = f1_score(y_test, ccd_preds)\n",
    "print(f\"LogRegCCD F1 Score: {ccd_f1:.4f}\")"
   ]
  },
  {
   "cell_type": "code",
   "execution_count": null,
   "metadata": {},
   "outputs": [],
   "source": [
    "# ccd_model.plot(results, measure=\"precision\")"
   ]
  },
  {
   "cell_type": "code",
   "execution_count": null,
   "metadata": {},
   "outputs": [],
   "source": [
    "# ccd_model.plot_coefficients(results)"
   ]
  },
  {
   "cell_type": "code",
   "execution_count": null,
   "metadata": {},
   "outputs": [
    {
     "name": "stderr",
     "output_type": "stream",
     "text": [
      "/Users/mikolajmroz/Developer/AML-projects/Project1/venv/lib/python3.10/site-packages/sklearn/linear_model/_sag.py:348: ConvergenceWarning: The max_iter was reached which means the coef_ did not converge\n",
      "  warnings.warn(\n"
     ]
    }
   ],
   "source": [
    "logreg = LogisticRegression(max_iter=1000, penalty='elasticnet', solver='saga', l1_ratio=0.9)\n",
    "logreg.fit(np.asarray(X_train), y_train)\n",
    "sklearn_preds = logreg.predict(np.asarray(X_test))\n",
    "sklearn_f1 = f1_score(y_test, sklearn_preds)"
   ]
  },
  {
   "cell_type": "markdown",
   "metadata": {},
   "source": [
    "## Secom dataset"
   ]
  },
  {
   "cell_type": "code",
   "execution_count": null,
   "metadata": {},
   "outputs": [],
   "source": [
    "df = pd.read_csv('./data/secom.csv')\n",
    "X = np.asmatrix(df.drop(columns='target'))\n",
    "y = np.asarray(df['target'])\n",
    "X_train, X_test, y_train, y_test = train_test_split(X, y, test_size=0.3, random_state=42)"
   ]
  },
  {
   "cell_type": "code",
   "execution_count": null,
   "metadata": {},
   "outputs": [
    {
     "name": "stdout",
     "output_type": "stream",
     "text": [
      "Fitting lmbda: 1.0\n"
     ]
    },
    {
     "name": "stderr",
     "output_type": "stream",
     "text": [
      "/var/folders/ry/kcmcwh_95_jgg3sg1zp_pp5m0000gn/T/ipykernel_15505/4166350961.py:13: RuntimeWarning: overflow encountered in exp\n",
      "  return 1 / (1 + np.exp(-z))\n"
     ]
    },
    {
     "name": "stdout",
     "output_type": "stream",
     "text": [
      "PRECISION score: 0.14285714285714285\n",
      "Fitting lmbda: 0.1\n"
     ]
    },
    {
     "name": "stderr",
     "output_type": "stream",
     "text": [
      "/var/folders/ry/kcmcwh_95_jgg3sg1zp_pp5m0000gn/T/ipykernel_15505/4166350961.py:13: RuntimeWarning: overflow encountered in exp\n",
      "  return 1 / (1 + np.exp(-z))\n"
     ]
    },
    {
     "name": "stdout",
     "output_type": "stream",
     "text": [
      "PRECISION score: 0.14285714285714285\n",
      "Fitting lmbda: 0.01\n"
     ]
    },
    {
     "name": "stderr",
     "output_type": "stream",
     "text": [
      "/var/folders/ry/kcmcwh_95_jgg3sg1zp_pp5m0000gn/T/ipykernel_15505/4166350961.py:13: RuntimeWarning: overflow encountered in exp\n",
      "  return 1 / (1 + np.exp(-z))\n"
     ]
    },
    {
     "name": "stdout",
     "output_type": "stream",
     "text": [
      "PRECISION score: 0.14285714285714285\n",
      "Fitting lmbda: 0.001\n"
     ]
    },
    {
     "name": "stderr",
     "output_type": "stream",
     "text": [
      "/var/folders/ry/kcmcwh_95_jgg3sg1zp_pp5m0000gn/T/ipykernel_15505/4166350961.py:13: RuntimeWarning: overflow encountered in exp\n",
      "  return 1 / (1 + np.exp(-z))\n"
     ]
    },
    {
     "name": "stdout",
     "output_type": "stream",
     "text": [
      "PRECISION score: 0.14285714285714285\n",
      "Fitting lmbda: 0.0001\n"
     ]
    },
    {
     "name": "stderr",
     "output_type": "stream",
     "text": [
      "/var/folders/ry/kcmcwh_95_jgg3sg1zp_pp5m0000gn/T/ipykernel_15505/4166350961.py:13: RuntimeWarning: overflow encountered in exp\n",
      "  return 1 / (1 + np.exp(-z))\n"
     ]
    },
    {
     "name": "stdout",
     "output_type": "stream",
     "text": [
      "PRECISION score: 0.14285714285714285\n"
     ]
    },
    {
     "name": "stderr",
     "output_type": "stream",
     "text": [
      "/var/folders/ry/kcmcwh_95_jgg3sg1zp_pp5m0000gn/T/ipykernel_15505/4166350961.py:13: RuntimeWarning: overflow encountered in exp\n",
      "  return 1 / (1 + np.exp(-z))\n"
     ]
    },
    {
     "name": "stdout",
     "output_type": "stream",
     "text": [
      "LogRegCCD precision Score: 0.1200\n"
     ]
    }
   ],
   "source": [
    "ccd_model = LogRegCCD(num_lambdas=10)\n",
    "results, best_lambda = ccd_model.optimize_lambda(X_train, y_train, X_test, y_test, measure=\"f1\")\n",
    "ccd_model.fit(X_train, y_train, best_lambda)\n",
    "\n",
    "ccd_probs = ccd_model.predict_proba(X_test)\n",
    "ccd_preds = (ccd_probs >= 0.5).astype(int)\n",
    "ccd_f1 = f1_score(y_test, ccd_preds)\n",
    "print(f\"LogRegCCD F1 Score: {ccd_f1:.4f}\")"
   ]
  },
  {
   "cell_type": "code",
   "execution_count": null,
   "metadata": {},
   "outputs": [],
   "source": [
    "# ccd_model.plot(results, measure=\"precision\")"
   ]
  },
  {
   "cell_type": "code",
   "execution_count": null,
   "metadata": {},
   "outputs": [],
   "source": [
    "# ccd_model.plot_coefficients(results)"
   ]
  },
  {
   "cell_type": "code",
   "execution_count": null,
   "metadata": {},
   "outputs": [
    {
     "name": "stderr",
     "output_type": "stream",
     "text": [
      "/Users/mikolajmroz/Developer/AML-projects/Project1/venv/lib/python3.10/site-packages/sklearn/linear_model/_sag.py:348: ConvergenceWarning: The max_iter was reached which means the coef_ did not converge\n",
      "  warnings.warn(\n"
     ]
    }
   ],
   "source": [
    "logreg = LogisticRegression(max_iter=1000, penalty='elasticnet', solver='saga', l1_ratio=0.9)\n",
    "logreg.fit(np.asarray(X_train), y_train)\n",
    "sklearn_preds = logreg.predict(np.asarray(X_test))\n",
    "sklearn_f1 = f1_score(y_test, sklearn_preds)"
   ]
  }
 ],
 "metadata": {
  "kernelspec": {
   "display_name": "venv",
   "language": "python",
   "name": "python3"
  },
  "language_info": {
   "codemirror_mode": {
    "name": "ipython",
    "version": 3
   },
   "file_extension": ".py",
   "mimetype": "text/x-python",
   "name": "python",
   "nbconvert_exporter": "python",
   "pygments_lexer": "ipython3",
   "version": "3.10.9"
  }
 },
 "nbformat": 4,
 "nbformat_minor": 2
}
