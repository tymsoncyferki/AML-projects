{
 "cells": [
  {
   "cell_type": "code",
   "execution_count": null,
   "metadata": {},
   "outputs": [],
   "source": [
    "import pandas as pd\n",
    "import numpy as np\n",
    "from scipy.stats import bernoulli, multivariate_normal"
   ]
  },
  {
   "cell_type": "markdown",
   "metadata": {},
   "source": [
    "## Real"
   ]
  },
  {
   "cell_type": "markdown",
   "metadata": {},
   "source": [
    "### dataset 4"
   ]
  },
  {
   "cell_type": "code",
   "execution_count": 4,
   "metadata": {},
   "outputs": [],
   "source": [
    "X_secom = pd.read_csv(\"raw_data/secom/secom.data\", header=None, sep=' ')\n",
    "y_secom = pd.read_csv(\"raw_data/secom/secom_labels.data\", header=None, sep=' ')[0]"
   ]
  },
  {
   "cell_type": "markdown",
   "metadata": {},
   "source": [
    "## Synthetic"
   ]
  },
  {
   "cell_type": "code",
   "execution_count": null,
   "metadata": {},
   "outputs": [],
   "source": [
    "def generate_dataset(p=0.5, n=1000, d=10, g=0.5) -> tuple[np.ndarray, np.ndarray]:\n",
    "    \"\"\"\n",
    "    Generates synthethic dataset\n",
    "\n",
    "    Args: \n",
    "        p: prior probability for y=1\n",
    "        n: number of instances\n",
    "        d: number of features\n",
    "        g: param for cov matrix\n",
    "\n",
    "    Returns:\n",
    "        X, y\n",
    "    \"\"\"\n",
    "    y = bernoulli.rvs(p, size=n)\n",
    "    \n",
    "    # mean vectors\n",
    "    m0 = np.zeros(d)\n",
    "    m1 = np.array([1/(i+1) for i in range(d)])\n",
    "\n",
    "    # cov matrix\n",
    "    S = np.array([[g**abs(i - j) for j in range(d)] for i in range(d)])\n",
    "\n",
    "    X = np.zeros((n, d))\n",
    "    X[y==0] = multivariate_normal.rvs(mean = m0, cov=S, size=len(X[y==0]))\n",
    "    X[y==1] = multivariate_normal.rvs(mean = m1, cov=S, size=len(X[y==1]))   \n",
    "\n",
    "    return X, y"
   ]
  }
 ],
 "metadata": {
  "kernelspec": {
   "display_name": ".venv",
   "language": "python",
   "name": "python3"
  },
  "language_info": {
   "codemirror_mode": {
    "name": "ipython",
    "version": 3
   },
   "file_extension": ".py",
   "mimetype": "text/x-python",
   "name": "python",
   "nbconvert_exporter": "python",
   "pygments_lexer": "ipython3",
   "version": "3.11.9"
  }
 },
 "nbformat": 4,
 "nbformat_minor": 2
}
