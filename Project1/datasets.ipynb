{
 "cells": [
  {
   "cell_type": "code",
   "execution_count": null,
   "metadata": {},
   "outputs": [],
   "source": [
    "import os\n",
    "import numpy as np\n",
    "import pandas as pd\n",
    "from scipy.stats import bernoulli, multivariate_normal\n",
    "from scipy.sparse import csr_matrix\n",
    "from feature_engine.selection import DropCorrelatedFeatures\n",
    "from sklearn.preprocessing import StandardScaler"
   ]
  },
  {
   "cell_type": "markdown",
   "metadata": {},
   "source": [
    "## Arhythmia"
   ]
  },
  {
   "cell_type": "code",
   "execution_count": null,
   "metadata": {},
   "outputs": [],
   "source": [
    "# load data\n",
    "data = pd.read_csv(\"raw_data/arrhythmia/arrhythmia.data\", header=None, na_values='?')\n",
    "\n",
    "# set last column as target\n",
    "data.rename(columns={data.columns[-1]: 'target'}, inplace=True)\n",
    "\n",
    "# convert classes to binary: 0 (Normal), 1 (all others)\n",
    "data['target'] = data['target'].apply(lambda x: 0 if x == 1 else 1)\n",
    "\n",
    "# create data directory if needed\n",
    "os.makedirs('data', exist_ok=True)\n",
    "\n",
    "# save data to CSV\n",
    "data.to_csv('data/arrhythmia.csv', index=False)\n",
    "print(\"Data saved to 'data/arrhythmia.csv'.\")"
   ]
  },
  {
   "cell_type": "markdown",
   "metadata": {},
   "source": [
    "## Dexter"
   ]
  },
  {
   "cell_type": "code",
   "execution_count": null,
   "metadata": {},
   "outputs": [],
   "source": [
    "# Function to load Dexter data in sparse format\n",
    "def load_dexter_data_sparse(filepath_data, filepath_labels, num_features=20000):\n",
    "    rows, cols, vals = [], [], []\n",
    "    with open(filepath_data, 'r') as file:\n",
    "        for row_idx, line in enumerate(file):\n",
    "            elements = line.strip().split()\n",
    "            for el in elements:\n",
    "                col_idx, val = el.split(\":\")\n",
    "                rows.append(row_idx)\n",
    "                cols.append(int(col_idx)-1)  # indices start at 1\n",
    "                vals.append(int(val))\n",
    "\n",
    "    X_sparse = csr_matrix((vals, (rows, cols)), shape=(row_idx+1, num_features))\n",
    "    X = pd.DataFrame(X_sparse.toarray())\n",
    "\n",
    "    y = pd.read_csv(filepath_labels, header=None, names=['target'])\n",
    "    \n",
    "    df = X.copy()\n",
    "    df['target'] = y['target']\n",
    "    return df\n",
    "\n",
    "train_data_path = 'raw_data/dexter/DEXTER/dexter_train.data'\n",
    "train_labels_path = 'raw_data/dexter/DEXTER/dexter_train.labels'\n",
    "\n",
    "dexter_df = load_dexter_data_sparse(train_data_path, train_labels_path)\n",
    "\n",
    "print(\"Training data table (first 5 rows):\")\n",
    "print(dexter_df.head())\n",
    "\n",
    "print(\"\\nBasic statistics for training data:\")\n",
    "print(dexter_df.describe())\n",
    "\n",
    "print(\"\\nUnique classes in training data:\")\n",
    "print(dexter_df['target'].unique())\n",
    "\n",
    "os.makedirs('data', exist_ok=True)\n",
    "\n",
    "dexter_df.to_csv('data/dexter.csv', index=False)\n",
    "print(\"Data saved to 'data/dexter.csv'.\")"
   ]
  },
  {
   "cell_type": "markdown",
   "metadata": {},
   "source": [
    "## Speech"
   ]
  },
  {
   "cell_type": "code",
   "execution_count": null,
   "metadata": {},
   "outputs": [],
   "source": [
    "data = pd.read_csv(\"raw_data/pd_speech_features.csv\").drop(columns=['id'])\n",
    "data.rename(columns={data.columns[-1]: 'target'}, inplace=True)"
   ]
  },
  {
   "cell_type": "code",
   "execution_count": null,
   "metadata": {},
   "outputs": [],
   "source": [
    "corr_matrix = data.drop(columns=['target']).corr().abs()\n",
    "upper = corr_matrix.where(np.triu(np.ones(corr_matrix.shape), k=1).astype(bool))\n",
    "to_drop = [column for column in upper.columns if any(upper[column] > 0.9)]\n",
    "data.drop(columns=to_drop, inplace=True)"
   ]
  },
  {
   "cell_type": "code",
   "execution_count": null,
   "metadata": {},
   "outputs": [],
   "source": [
    "X = data.drop(columns=['target'])\n",
    "y = data['target']\n",
    "\n",
    "binary_cols = X.nunique()[X.nunique() == 2].index\n",
    "numeric_cols = X.columns.difference(binary_cols)\n",
    "\n",
    "scaler = StandardScaler()\n",
    "X_scaled = scaler.fit_transform(X[numeric_cols])\n",
    "X_scaled_df = pd.DataFrame(X_scaled, columns=numeric_cols)\n",
    "X_final = pd.concat([X_scaled_df, X[binary_cols].reset_index(drop=True)], axis=1)\n",
    "data_scaled = pd.concat([X_final, y], axis=1)"
   ]
  },
  {
   "cell_type": "code",
   "execution_count": null,
   "metadata": {},
   "outputs": [],
   "source": [
    "new_column_names = {col: i for i, col in enumerate(data.columns[:-1])}  \n",
    "data = data.rename(columns=new_column_names)"
   ]
  },
  {
   "cell_type": "code",
   "execution_count": null,
   "metadata": {},
   "outputs": [],
   "source": [
    "data.to_csv('data/speech.csv', index=False)"
   ]
  },
  {
   "cell_type": "markdown",
   "metadata": {},
   "source": [
    "## Secom"
   ]
  },
  {
   "cell_type": "code",
   "execution_count": null,
   "metadata": {},
   "outputs": [],
   "source": [
    "\"\"\" https://archive.ics.uci.edu/dataset/179/secom \"\"\""
   ]
  },
  {
   "cell_type": "code",
   "execution_count": 4,
   "metadata": {},
   "outputs": [],
   "source": [
    "X_secom = pd.read_csv(\"raw_data/secom/secom.data\", header=None, sep=' ')\n",
    "y_secom = pd.read_csv(\"raw_data/secom/secom_labels.data\", header=None, sep=' ')[0]"
   ]
  },
  {
   "cell_type": "code",
   "execution_count": 5,
   "metadata": {},
   "outputs": [],
   "source": [
    "y_secom = y_secom.apply(lambda x: max(x,0))  # change -1 to 0"
   ]
  },
  {
   "cell_type": "code",
   "execution_count": 6,
   "metadata": {},
   "outputs": [],
   "source": [
    "# fill nans\n",
    "X_secom = X_secom.fillna(X_secom.mean())\n",
    "\n",
    "# drop correlated columns\n",
    "tr = DropCorrelatedFeatures(None, threshold=0.9)\n",
    "X_secom = tr.fit_transform(X_secom)"
   ]
  },
  {
   "cell_type": "code",
   "execution_count": 7,
   "metadata": {},
   "outputs": [
    {
     "data": {
      "text/plain": [
       "0\n",
       "0    1463\n",
       "1     104\n",
       "Name: count, dtype: int64"
      ]
     },
     "execution_count": 7,
     "metadata": {},
     "output_type": "execute_result"
    }
   ],
   "source": [
    "y_secom.value_counts()"
   ]
  },
  {
   "cell_type": "code",
   "execution_count": 9,
   "metadata": {},
   "outputs": [],
   "source": [
    "# subset so number of features is at least 50% of number of instances\n",
    "new_n = X_secom.shape[1] * 2\n",
    "\n",
    "data = X_secom.copy()\n",
    "data[\"target\"] = y_secom\n",
    "\n",
    "y1 = data[data[\"target\"] == 1]\n",
    "y0 = data[data[\"target\"] == 0]\n",
    "\n",
    "# we keep all rows with y=1, as data is highly imbalanced and we want to balance it a litle bit\n",
    "rest_n = new_n - len(y1)\n",
    "y0_sample = y0.sample(n=rest_n, random_state=42)\n",
    "\n",
    "subset = pd.concat([y1, y0_sample]).sample(frac=1).reset_index(drop=True)  # sample to randomize order of rows\n",
    "y_subset = subset[\"target\"]\n",
    "X_subset = subset.drop(columns=[\"target\"])"
   ]
  },
  {
   "cell_type": "code",
   "execution_count": 10,
   "metadata": {},
   "outputs": [
    {
     "name": "stdout",
     "output_type": "stream",
     "text": [
      "instances x features: (768, 384)\n"
     ]
    },
    {
     "data": {
      "text/plain": [
       "target\n",
       "0    664\n",
       "1    104\n",
       "Name: count, dtype: int64"
      ]
     },
     "execution_count": 10,
     "metadata": {},
     "output_type": "execute_result"
    }
   ],
   "source": [
    "print(\"instances x features:\", X_subset.shape)\n",
    "y_subset.value_counts()"
   ]
  },
  {
   "cell_type": "code",
   "execution_count": 11,
   "metadata": {},
   "outputs": [],
   "source": [
    "subset.to_csv(\"data/secom.csv\", index=False)"
   ]
  },
  {
   "cell_type": "markdown",
   "metadata": {},
   "source": [
    "## Synthetic"
   ]
  },
  {
   "cell_type": "code",
   "execution_count": null,
   "metadata": {},
   "outputs": [],
   "source": [
    "def generate_dataset(p=0.5, n=1000, d=10, g=0.5) -> tuple[np.ndarray, np.ndarray]:\n",
    "    \"\"\"\n",
    "    Generates synthethic dataset\n",
    "\n",
    "    Args: \n",
    "        p: prior probability for y=1\n",
    "        n: number of instances\n",
    "        d: number of features\n",
    "        g: param for cov matrix\n",
    "\n",
    "    Returns:\n",
    "        X, y\n",
    "    \"\"\"\n",
    "    y = bernoulli.rvs(p, size=n)\n",
    "    \n",
    "    # mean vectors\n",
    "    m0 = np.zeros(d)\n",
    "    m1 = np.array([1/(i+1) for i in range(d)])\n",
    "\n",
    "    # cov matrix\n",
    "    S = np.array([[g**abs(i - j) for j in range(d)] for i in range(d)])\n",
    "\n",
    "    X = np.zeros((n, d))\n",
    "    X[y==0] = multivariate_normal.rvs(mean = m0, cov=S, size=len(X[y==0]))\n",
    "    X[y==1] = multivariate_normal.rvs(mean = m1, cov=S, size=len(X[y==1]))   \n",
    "\n",
    "    return X, y"
   ]
  }
 ],
 "metadata": {
  "kernelspec": {
   "display_name": ".venv",
   "language": "python",
   "name": "python3"
  },
  "language_info": {
   "codemirror_mode": {
    "name": "ipython",
    "version": 3
   },
   "file_extension": ".py",
   "mimetype": "text/x-python",
   "name": "python",
   "nbconvert_exporter": "python",
   "pygments_lexer": "ipython3",
   "version": "3.11.11"
  }
 },
 "nbformat": 4,
 "nbformat_minor": 2
}
